{
  "nbformat": 4,
  "nbformat_minor": 0,
  "metadata": {
    "colab": {
      "name": "lequangphuc_luunguyenchuong_nguyentuananh.ipynb",
      "provenance": [],
      "collapsed_sections": []
    },
    "kernelspec": {
      "name": "python3",
      "display_name": "Python 3"
    },
    "language_info": {
      "name": "python"
    }
  },
  "cells": [
    {
      "cell_type": "code",
      "metadata": {
        "colab": {
          "base_uri": "https://localhost:8080/"
        },
        "id": "WI1-NW2X5h4g",
        "outputId": "90500bf7-d8da-47c1-edd9-0502b489692f"
      },
      "source": [
        "pip install pyspark"
      ],
      "execution_count": null,
      "outputs": [
        {
          "output_type": "stream",
          "text": [
            "Requirement already satisfied: pyspark in /usr/local/lib/python3.7/dist-packages (3.1.1)\n",
            "Requirement already satisfied: py4j==0.10.9 in /usr/local/lib/python3.7/dist-packages (from pyspark) (0.10.9)\n"
          ],
          "name": "stdout"
        }
      ]
    },
    {
      "cell_type": "code",
      "metadata": {
        "colab": {
          "base_uri": "https://localhost:8080/"
        },
        "id": "1F1J0ScX6Cuz",
        "outputId": "e02256e0-7abf-4f92-86c8-aaae1e43ba1a"
      },
      "source": [
        "# Sử dụng pyspark \n",
        "import sys\n",
        "from pyspark import SparkConf, SparkContext\n",
        "from pyspark.sql import SparkSession\n",
        "from pyspark.ml.recommendation import ALS\n",
        "from pyspark.sql.functions  import *\n",
        "from pyspark.sql.types import *\n",
        "\n",
        "# được sử dụng để xác định các đặc điểm của ứng dụng mà chúng ta đang mã hóa, \n",
        "#ví dụ như tên của ứng dụng, bộ nhớ được cấp cho các nút Driver và Executor, v.v. \n",
        "#Cài đặt Spark.serializer được sử dụng để chọn loại bộ tuần tự hóa dữ liệu \n",
        "#(quá trình chuyển đổi dữ liệu thành một cấu trúc khác để lưu trữ và chuyển đến các nút khác nhau trong mạng phân tán hiệu quả \n",
        "#đồng thời cho phép xây dựng lại cấu trúc ban đầu của dữ liệu). \n",
        "conf = SparkConf().setMaster(\"local[*]\").setAppName(\"Books\")\n",
        "conf.set(\"spark.executor.memory\", \"6G\")\n",
        "conf.set(\"spark.driver.memory\", \"2G\")\n",
        "conf.set(\"spark.executor.cores\", \"4\")\n",
        "conf.set(\"spark.serializer\", \"org.apache.spark.serializer.KryoSerializer\")\n",
        "conf.set(\"spark.default.parallelism\", \"4\")"
      ],
      "execution_count": null,
      "outputs": [
        {
          "output_type": "execute_result",
          "data": {
            "text/plain": [
              "<pyspark.conf.SparkConf at 0x7fd017b6f150>"
            ]
          },
          "metadata": {
            "tags": []
          },
          "execution_count": 29
        }
      ]
    },
    {
      "cell_type": "code",
      "metadata": {
        "id": "_liVFze96Fdq"
      },
      "source": [
        "# Khởi tạo một sparkSession\n",
        "spark = SparkSession.builder \\\n",
        "    .config(conf = conf) \\\n",
        "  .appName(\"spark session example\") \\\n",
        "  .getOrCreate()"
      ],
      "execution_count": null,
      "outputs": []
    },
    {
      "cell_type": "code",
      "metadata": {
        "colab": {
          "base_uri": "https://localhost:8080/"
        },
        "id": "4-ae7x4w6K30",
        "outputId": "57edfd41-68a5-449c-9ec6-a7d11ad561d4"
      },
      "source": [
        "#chuyển đổi nó thành RDD, sử dụng đối tượng SparkContext\n",
        "#SparkContext là điểm đầu vào để sử dụng các chức năng của Spark, vì nó hướng dẫn chương trình truy cập các cụm\n",
        "books_df = spark.read.option(\"delimiter\", \";\").option(\"header\", \"true\").csv('/content/sample_data/Books.csv')\n",
        "books_df.show()"
      ],
      "execution_count": null,
      "outputs": [
        {
          "output_type": "stream",
          "text": [
            "+----------+--------------------+--------------------+----+--------------------+\n",
            "|      ISBN|               Title|              Author|Year|           Publisher|\n",
            "+----------+--------------------+--------------------+----+--------------------+\n",
            "|0195153448| Classical Mythology|  Mark P. O. Morford|2002|Oxford University...|\n",
            "|0002005018|        Clara Callan|Richard Bruce Wright|2001|HarperFlamingo Ca...|\n",
            "|0060973129|Decision in Normandy|        Carlo D'Este|1991|     HarperPerennial|\n",
            "|0374157065|Flu: The Story of...|    Gina Bari Kolata|1999|Farrar Straus Giroux|\n",
            "|0393045218|The Mummies of Ur...|     E. J. W. Barber|1999|W. W. Norton & Co...|\n",
            "|0399135782|The Kitchen God's...|             Amy Tan|1991|    Putnam Pub Group|\n",
            "|0425176428|What If?: The Wor...|       Robert Cowley|2000|Berkley Publishin...|\n",
            "|0671870432|     PLEADING GUILTY|         Scott Turow|1993|          Audioworks|\n",
            "|0679425608|Under the Black F...|     David Cordingly|1996|        Random House|\n",
            "|074322678X|Where You'll Find...|         Ann Beattie|2002|            Scribner|\n",
            "|0771074670|Nights Below Stat...|David Adams Richards|1988|     Emblem Editions|\n",
            "|080652121X|Hitler's Secret B...|          Adam Lebor|2000|       Citadel Press|\n",
            "|0887841740|  The Middle Stories|         Sheila Heti|2004|House of Anansi P...|\n",
            "|1552041778|            Jane Doe|        R. J. Kaiser|1999|          Mira Books|\n",
            "|1558746218|A Second Chicken ...|       Jack Canfield|1998|Health Communicat...|\n",
            "|1567407781|The Witchfinder (...|   Loren D. Estleman|1998|Brilliance Audio ...|\n",
            "|1575663937|More Cunning Than...|  Robert Hendrickson|1999|Kensington Publis...|\n",
            "|1881320189|Goodbye to the Bu...|        Julia Oliver|1994|      River City Pub|\n",
            "|0440234743|       The Testament|        John Grisham|1999|                Dell|\n",
            "|0452264464|Beloved (Plume Co...|       Toni Morrison|1994|               Plume|\n",
            "+----------+--------------------+--------------------+----+--------------------+\n",
            "only showing top 20 rows\n",
            "\n"
          ],
          "name": "stdout"
        }
      ]
    },
    {
      "cell_type": "code",
      "metadata": {
        "colab": {
          "base_uri": "https://localhost:8080/"
        },
        "id": "PqhjFjJ37S-u",
        "outputId": "19f69b20-269b-4bf8-84fa-66567c47eefb"
      },
      "source": [
        "books_df.select('Title').show()"
      ],
      "execution_count": null,
      "outputs": [
        {
          "output_type": "stream",
          "text": [
            "+--------------------+\n",
            "|               Title|\n",
            "+--------------------+\n",
            "| Classical Mythology|\n",
            "|        Clara Callan|\n",
            "|Decision in Normandy|\n",
            "|Flu: The Story of...|\n",
            "|The Mummies of Ur...|\n",
            "|The Kitchen God's...|\n",
            "|What If?: The Wor...|\n",
            "|     PLEADING GUILTY|\n",
            "|Under the Black F...|\n",
            "|Where You'll Find...|\n",
            "|Nights Below Stat...|\n",
            "|Hitler's Secret B...|\n",
            "|  The Middle Stories|\n",
            "|            Jane Doe|\n",
            "|A Second Chicken ...|\n",
            "|The Witchfinder (...|\n",
            "|More Cunning Than...|\n",
            "|Goodbye to the Bu...|\n",
            "|       The Testament|\n",
            "|Beloved (Plume Co...|\n",
            "+--------------------+\n",
            "only showing top 20 rows\n",
            "\n"
          ],
          "name": "stdout"
        }
      ]
    },
    {
      "cell_type": "code",
      "metadata": {
        "colab": {
          "base_uri": "https://localhost:8080/"
        },
        "id": "yHXtLjS27icj",
        "outputId": "a125dc85-62ef-4ea7-a04a-4c53b600c411"
      },
      "source": [
        "#tổng số nhà xuất bản trong tập dữ liệu.\n",
        "books_df.select('Publisher').distinct().count()"
      ],
      "execution_count": null,
      "outputs": [
        {
          "output_type": "execute_result",
          "data": {
            "text/plain": [
              "16915"
            ]
          },
          "metadata": {
            "tags": []
          },
          "execution_count": 21
        }
      ]
    },
    {
      "cell_type": "code",
      "metadata": {
        "colab": {
          "base_uri": "https://localhost:8080/"
        },
        "id": "XOXX7IFu7mvM",
        "outputId": "7592523c-58cb-42fc-8ae1-4a2df93efcc6"
      },
      "source": [
        "books_df.createOrReplaceTempView('Table') \n",
        "df = spark.sql(\"SELECT Publisher from Table\")\n",
        "df.show()"
      ],
      "execution_count": null,
      "outputs": [
        {
          "output_type": "stream",
          "text": [
            "+--------------------+\n",
            "|           Publisher|\n",
            "+--------------------+\n",
            "|Oxford University...|\n",
            "|HarperFlamingo Ca...|\n",
            "|     HarperPerennial|\n",
            "|Farrar Straus Giroux|\n",
            "|W. W. Norton & Co...|\n",
            "|    Putnam Pub Group|\n",
            "|Berkley Publishin...|\n",
            "|          Audioworks|\n",
            "|        Random House|\n",
            "|            Scribner|\n",
            "|     Emblem Editions|\n",
            "|       Citadel Press|\n",
            "|House of Anansi P...|\n",
            "|          Mira Books|\n",
            "|Health Communicat...|\n",
            "|Brilliance Audio ...|\n",
            "|Kensington Publis...|\n",
            "|      River City Pub|\n",
            "|                Dell|\n",
            "|               Plume|\n",
            "+--------------------+\n",
            "only showing top 20 rows\n",
            "\n"
          ],
          "name": "stdout"
        }
      ]
    },
    {
      "cell_type": "code",
      "metadata": {
        "colab": {
          "base_uri": "https://localhost:8080/"
        },
        "id": "0XOg36SL9QnZ",
        "outputId": "3d17e2ed-d09d-4687-fe50-4714999a4174"
      },
      "source": [
        "#Sử dụng rating để dùng cho việc khuyến nghị\n",
        "user_ratings_df = spark.read.option(\"delimiter\", \";\").option(\"header\", \"true\").csv('/content/sample_data/Ratings.csv')\n",
        "# Columns User-ID, ISBN and Book-Rating were in string format, which we convert to int\n",
        "user_ratings_df.show()\n",
        "\n"
      ],
      "execution_count": null,
      "outputs": [
        {
          "output_type": "stream",
          "text": [
            "+-------+----------+------+\n",
            "|User-ID|      ISBN|Rating|\n",
            "+-------+----------+------+\n",
            "| 276725|034545104X|     0|\n",
            "| 276726|0155061224|     5|\n",
            "| 276727|0446520802|     0|\n",
            "| 276729|052165615X|     3|\n",
            "| 276729|0521795028|     6|\n",
            "| 276733|2080674722|     0|\n",
            "| 276736|3257224281|     8|\n",
            "| 276737|0600570967|     6|\n",
            "| 276744|038550120X|     7|\n",
            "| 276745| 342310538|    10|\n",
            "| 276746|0425115801|     0|\n",
            "| 276746|0449006522|     0|\n",
            "| 276746|0553561618|     0|\n",
            "| 276746|055356451X|     0|\n",
            "| 276746|0786013990|     0|\n",
            "| 276746|0786014512|     0|\n",
            "| 276747|0060517794|     9|\n",
            "| 276747|0451192001|     0|\n",
            "| 276747|0609801279|     0|\n",
            "| 276747|0671537458|     9|\n",
            "+-------+----------+------+\n",
            "only showing top 20 rows\n",
            "\n"
          ],
          "name": "stdout"
        }
      ]
    },
    {
      "cell_type": "code",
      "metadata": {
        "colab": {
          "base_uri": "https://localhost:8080/"
        },
        "id": "0KQWYWNJ_BBh",
        "outputId": "4503b452-6295-4148-d3cc-f5ae49d0ab26"
      },
      "source": [
        "ratings_df = user_ratings_df.withColumn(\"User-ID\",\n",
        "                                        user_ratings_df['User-ID'].\\\n",
        "                                        cast(IntegerType())).\\\n",
        "\t\t\t\t\t\t\t\t\t\twithColumn(\"ISBN\", user_ratings_df['ISBN'].\\\n",
        "           \t\t\t\t\t\t\t\tcast(IntegerType())).\\\n",
        "    \t\t\t\t\t\t\t\t\twithColumn(\"Rating\",\\\n",
        "                                        user_ratings_df['Rating'].\\\n",
        "                                  \t\tcast(IntegerType())).\\\n",
        "                                      na.drop()\n",
        "ratings_df.show()"
      ],
      "execution_count": null,
      "outputs": [
        {
          "output_type": "stream",
          "text": [
            "+-------+----------+------+\n",
            "|User-ID|      ISBN|Rating|\n",
            "+-------+----------+------+\n",
            "| 276726| 155061224|     5|\n",
            "| 276727| 446520802|     0|\n",
            "| 276729| 521795028|     6|\n",
            "| 276733|2080674722|     0|\n",
            "| 276737| 600570967|     6|\n",
            "| 276745| 342310538|    10|\n",
            "| 276746| 425115801|     0|\n",
            "| 276746| 449006522|     0|\n",
            "| 276746| 553561618|     0|\n",
            "| 276746| 786013990|     0|\n",
            "| 276746| 786014512|     0|\n",
            "| 276747|  60517794|     9|\n",
            "| 276747| 451192001|     0|\n",
            "| 276747| 609801279|     0|\n",
            "| 276747| 671537458|     9|\n",
            "| 276747| 679776818|     8|\n",
            "| 276747| 943066433|     7|\n",
            "| 276747|1570231028|     0|\n",
            "| 276747|1885408226|     7|\n",
            "| 276748| 747558167|     6|\n",
            "+-------+----------+------+\n",
            "only showing top 20 rows\n",
            "\n"
          ],
          "name": "stdout"
        }
      ]
    },
    {
      "cell_type": "markdown",
      "metadata": {
        "id": "FNC39SDbpSoQ"
      },
      "source": [
        "Thuật toán ALS cộng tác sẽ phân rã 2 ma trận là user và iem\n",
        "-Lấy tích 2 ma trận\n",
        "-Ưóc lượng rating của user và item thông qua công thức nhân vector\n",
        "\n"
      ]
    },
    {
      "cell_type": "code",
      "metadata": {
        "id": "8OVKfeLy_zSC",
        "colab": {
          "base_uri": "https://localhost:8080/"
        },
        "outputId": "b661c369-1fc8-407e-8dd1-4b3dfa71ab9a"
      },
      "source": [
        "#Sử dụng phương pháp lọc cộng tác(ALS)\n",
        "#maxIter: Số lượng vòng lặp tối đa\n",
        "#regParam: Hệ số kiểm soát regularization\n",
        "#userCol: tên cột chứa id của user\n",
        "#itemCol: tên cột chứa id của item\n",
        "#ratingCol: tên cột chứa giá trị của rating\n",
        "from datetime import datetime\n",
        "start_time = datetime.now()\n",
        "als = ALS(maxIter=5, regParam=0.01, userCol=\"User-ID\", itemCol=\"ISBN\", ratingCol=\"Rating\",coldStartStrategy=\"drop\")#NaN\n",
        "#fit the model to the ratings\n",
        "dataframemodel = als.fit(ratings_df)\n",
        "end_time = datetime.now()\n",
        "\n",
        "print('Execute time {}'.format(end_time - start_time))"
      ],
      "execution_count": null,
      "outputs": [
        {
          "output_type": "stream",
          "text": [
            "Execute time 0:00:17.862872\n"
          ],
          "name": "stdout"
        }
      ]
    },
    {
      "cell_type": "code",
      "metadata": {
        "colab": {
          "base_uri": "https://localhost:8080/"
        },
        "id": "pCNPsj6JAGzQ",
        "outputId": "dd336734-e53d-4c12-824b-5f980eda0292"
      },
      "source": [
        "#Số sách tiêu chuẩn quốc tế(ISBN) \n",
        "\n",
        "ratings = ratings_df.filter(col('User-ID')==17)\n",
        "books_df.join(ratings,ratings.ISBN==books_df.ISBN).select(col('User-ID'),col('Title'),col('Author'),col('Year'),col('Rating')).show()"
      ],
      "execution_count": null,
      "outputs": [
        {
          "output_type": "stream",
          "text": [
            "+-------+--------------------+-----------------+----+------+\n",
            "|User-ID|               Title|           Author|Year|Rating|\n",
            "+-------+--------------------+-----------------+----+------+\n",
            "|     17|OUT OF THE SILENT...|       C.S. Lewis|1996|     0|\n",
            "|     17|Prelude to Founda...|     ISAAC ASIMOV|1989|     0|\n",
            "|     17|             Prophet| Frank E. Peretti|1992|     3|\n",
            "|     17|     Winter Solstice|Rosamunde Pilcher|2001|     0|\n",
            "|     17| Death in the Clouds|  Agatha Christie|1997|     7|\n",
            "|     17|Piercing the Dark...| Frank E. Peretti|1989|     6|\n",
            "|     17|Bant/Spec.Last of...|    Louis L'Amour|1987|     5|\n",
            "+-------+--------------------+-----------------+----+------+\n",
            "\n"
          ],
          "name": "stdout"
        }
      ]
    },
    {
      "cell_type": "code",
      "metadata": {
        "id": "ARxuJt_tAI4D",
        "colab": {
          "base_uri": "https://localhost:8080/"
        },
        "outputId": "2790d298-65ab-495b-94de-ba86d2401a28"
      },
      "source": [
        "user_id = [[17]]\n",
        "conf = SparkConf().setMaster(\"local[1]\").setAppName(\"book\")\n",
        "sc = SparkContext.getOrCreate(conf=conf)\n",
        "functiondf = sc.parallelize(user_id).toDF(['User-ID'])\n",
        "num_rec = 20\n",
        "recommendations = dataframemodel.recommendForUserSubset(functiondf , num_rec)\n",
        "recommendations.collect()\n",
        "recommended_ISBN = [recommendations.collect()[0]['recommendations'][x]['ISBN'] for x in range(0,num_rec)]\n",
        "recommended_ISBN"
      ],
      "execution_count": null,
      "outputs": [
        {
          "output_type": "execute_result",
          "data": {
            "text/plain": [
              "[312117787,\n",
              " 736413057,\n",
              " 340666269,\n",
              " 394968808,\n",
              " 445085428,\n",
              " 787117900,\n",
              " 836251822,\n",
              " 451525817,\n",
              " 28620283,\n",
              " 840734247,\n",
              " 1570820538,\n",
              " 385326335,\n",
              " 486241785,\n",
              " 517884518,\n",
              " 1580626408,\n",
              " 786410116,\n",
              " 882400851,\n",
              " 906198917,\n",
              " 843933542,\n",
              " 590411136]"
            ]
          },
          "metadata": {
            "tags": []
          },
          "execution_count": 27
        }
      ]
    },
    {
      "cell_type": "code",
      "metadata": {
        "colab": {
          "base_uri": "https://localhost:8080/"
        },
        "id": "IqMkY9sUXAGI",
        "outputId": "c04ef6a7-164e-44e3-fa12-99ae48cc8539"
      },
      "source": [
        "rec_df = spark.createDataFrame(recommended_ISBN, IntegerType())\n",
        "print('Top ',num_rec,' book recommendations for User-ID ',user_id[0][0], ' are:')\n",
        "books_df.join(rec_df,rec_df.value==books_df.ISBN).select(col('Title'),col('Author'),col('Year')).show()"
      ],
      "execution_count": null,
      "outputs": [
        {
          "output_type": "stream",
          "text": [
            "Top  20  book recommendations for User-ID  17  are:\n",
            "+--------------------+--------------------+----+\n",
            "|               Title|              Author|Year|\n",
            "+--------------------+--------------------+----+\n",
            "|\"The complete mak...|  Barbara Goodfellow|1982|\n",
            "|               Marin|         Beth Ashley|1993|\n",
            "|    Timeless Passion|Constance O'Day F...|1994|\n",
            "|The Glorious Seas...|     Suzanne Clemenz|1989|\n",
            "|Stokes Hummingbir...|       Donald Stokes|1989|\n",
            "|When All You've E...|   Harold S. Kushner|1987|\n",
            "|Campbell's Fabulo...|Campbell Soup Com...|1993|\n",
            "|Convection Oven C...|        Sunset Books|1984|\n",
            "|Always A Lady (Si...|         Sharon Sala|2000|\n",
            "|How to Survive th...|      Melba Colgrove|1991|\n",
            "|Walt Disney's Win...|         Mouse Works|1994|\n",
            "|          Annie John|     Jamaica Kincaid|1986|\n",
            "|   The Runaway Bunny| Margaret Wise Brown|1977|\n",
            "| The Hidden Alphabet|Laura Vaccaro Seeger|2003|\n",
            "|Merchant of Venic...| William Shakespeare|1992|\n",
            "|PCs for Dummies, ...|          Dan Gookin|1997|\n",
            "|          Headbanger|       Hugo Hamilton|2001|\n",
            "|Office XP 9 in 1 ...|        Greg  Harvey|2001|\n",
            "|  Love Forever After|       Patricia Rice|1990|\n",
            "+--------------------+--------------------+----+\n",
            "\n"
          ],
          "name": "stdout"
        }
      ]
    },
    {
      "cell_type": "markdown",
      "metadata": {
        "id": "oO35CPNuunPV"
      },
      "source": [
        "https://spark.apache.org/docs/2.2.0/ml-collaborative-filtering.html"
      ]
    }
  ]
}
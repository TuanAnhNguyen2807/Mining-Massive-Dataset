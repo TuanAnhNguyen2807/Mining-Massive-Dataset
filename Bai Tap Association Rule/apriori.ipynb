{
  "nbformat": 4,
  "nbformat_minor": 0,
  "metadata": {
    "colab": {
      "name": "apriori.ipynb",
      "provenance": [],
      "collapsed_sections": []
    },
    "kernelspec": {
      "name": "python3",
      "display_name": "Python 3"
    }
  },
  "cells": [
    {
      "cell_type": "code",
      "metadata": {
        "colab": {
          "base_uri": "https://localhost:8080/"
        },
        "id": "-UyIhTJAZqjk",
        "outputId": "f7352d39-832d-40ad-8882-c5c5dd1885bb"
      },
      "source": [
        "!pip install pyspark\n"
      ],
      "execution_count": 1,
      "outputs": [
        {
          "output_type": "stream",
          "text": [
            "Collecting pyspark\n",
            "\u001b[?25l  Downloading https://files.pythonhosted.org/packages/45/b0/9d6860891ab14a39d4bddf80ba26ce51c2f9dc4805e5c6978ac0472c120a/pyspark-3.1.1.tar.gz (212.3MB)\n",
            "\u001b[K     |████████████████████████████████| 212.3MB 68kB/s \n",
            "\u001b[?25hCollecting py4j==0.10.9\n",
            "\u001b[?25l  Downloading https://files.pythonhosted.org/packages/9e/b6/6a4fb90cd235dc8e265a6a2067f2a2c99f0d91787f06aca4bcf7c23f3f80/py4j-0.10.9-py2.py3-none-any.whl (198kB)\n",
            "\u001b[K     |████████████████████████████████| 204kB 37.1MB/s \n",
            "\u001b[?25hBuilding wheels for collected packages: pyspark\n",
            "  Building wheel for pyspark (setup.py) ... \u001b[?25l\u001b[?25hdone\n",
            "  Created wheel for pyspark: filename=pyspark-3.1.1-py2.py3-none-any.whl size=212767604 sha256=3d6f03c68a86fecafd5615d7a04e86d2e12a98b5693c646ecd85d5fb61330e57\n",
            "  Stored in directory: /root/.cache/pip/wheels/0b/90/c0/01de724414ef122bd05f056541fb6a0ecf47c7ca655f8b3c0f\n",
            "Successfully built pyspark\n",
            "Installing collected packages: py4j, pyspark\n",
            "Successfully installed py4j-0.10.9 pyspark-3.1.1\n"
          ],
          "name": "stdout"
        }
      ]
    },
    {
      "cell_type": "code",
      "metadata": {
        "colab": {
          "base_uri": "https://localhost:8080/"
        },
        "id": "YsPeP_7wZ_d5",
        "outputId": "e4ebfd19-064e-435d-8b8e-08928310b1f0"
      },
      "source": [
        "import pyspark\n",
        "from pyspark import SparkConf,SparkContext\n",
        "from pyspark.sql import SparkSession\n",
        "from google.colab import drive\n",
        "drive.mount('/content/drive')\n"
      ],
      "execution_count": 2,
      "outputs": [
        {
          "output_type": "stream",
          "text": [
            "Mounted at /content/drive\n"
          ],
          "name": "stdout"
        }
      ]
    },
    {
      "cell_type": "code",
      "metadata": {
        "colab": {
          "base_uri": "https://localhost:8080/"
        },
        "id": "t9YxMmivaWiP",
        "outputId": "d26a6416-6d21-40f0-98b4-efbdd528a23c"
      },
      "source": [
        "spark = SparkSession.builder.master(\"local[1]\").appName(\"SparkApriori\").getOrCreate()  \n",
        "transaction_df = spark.read.csv(\"drive/MyDrive/BigData/Week3/store_data.csv\")\n",
        "transaction_df.printSchema()"
      ],
      "execution_count": 3,
      "outputs": [
        {
          "output_type": "stream",
          "text": [
            "root\n",
            " |-- _c0: string (nullable = true)\n",
            " |-- _c1: string (nullable = true)\n",
            " |-- _c2: string (nullable = true)\n",
            " |-- _c3: string (nullable = true)\n",
            " |-- _c4: string (nullable = true)\n",
            " |-- _c5: string (nullable = true)\n",
            " |-- _c6: string (nullable = true)\n",
            " |-- _c7: string (nullable = true)\n",
            " |-- _c8: string (nullable = true)\n",
            " |-- _c9: string (nullable = true)\n",
            " |-- _c10: string (nullable = true)\n",
            " |-- _c11: string (nullable = true)\n",
            " |-- _c12: string (nullable = true)\n",
            " |-- _c13: string (nullable = true)\n",
            " |-- _c14: string (nullable = true)\n",
            " |-- _c15: string (nullable = true)\n",
            " |-- _c16: string (nullable = true)\n",
            " |-- _c17: string (nullable = true)\n",
            " |-- _c18: string (nullable = true)\n",
            " |-- _c19: string (nullable = true)\n",
            "\n"
          ],
          "name": "stdout"
        }
      ]
    },
    {
      "cell_type": "code",
      "metadata": {
        "colab": {
          "base_uri": "https://localhost:8080/"
        },
        "id": "bpXz6mO6a2hp",
        "outputId": "1c6eca32-4040-479b-acf4-dc246c8c5dd9"
      },
      "source": [
        "transaction_df.show()"
      ],
      "execution_count": 4,
      "outputs": [
        {
          "output_type": "stream",
          "text": [
            "+-----------------+------------+-------------+----------------+-------------+----------------+--------------+--------------+------------+--------------------+--------------+---------+-----+-----+-------------+------+-----------------+---------------+-------+---------+\n",
            "|              _c0|         _c1|          _c2|             _c3|          _c4|             _c5|           _c6|           _c7|         _c8|                 _c9|          _c10|     _c11| _c12| _c13|         _c14|  _c15|             _c16|           _c17|   _c18|     _c19|\n",
            "+-----------------+------------+-------------+----------------+-------------+----------------+--------------+--------------+------------+--------------------+--------------+---------+-----+-----+-------------+------+-----------------+---------------+-------+---------+\n",
            "|           shrimp|     almonds|      avocado|  vegetables mix| green grapes|whole weat flour|          yams|cottage cheese|energy drink|        tomato juice|low fat yogurt|green tea|honey|salad|mineral water|salmon|antioxydant juice|frozen smoothie|spinach|olive oil|\n",
            "|          burgers|   meatballs|         eggs|            null|         null|            null|          null|          null|        null|                null|          null|     null| null| null|         null|  null|             null|           null|   null|     null|\n",
            "|          chutney|        null|         null|            null|         null|            null|          null|          null|        null|                null|          null|     null| null| null|         null|  null|             null|           null|   null|     null|\n",
            "|           turkey|     avocado|         null|            null|         null|            null|          null|          null|        null|                null|          null|     null| null| null|         null|  null|             null|           null|   null|     null|\n",
            "|    mineral water|        milk|   energy bar|whole wheat rice|    green tea|            null|          null|          null|        null|                null|          null|     null| null| null|         null|  null|             null|           null|   null|     null|\n",
            "|   low fat yogurt|        null|         null|            null|         null|            null|          null|          null|        null|                null|          null|     null| null| null|         null|  null|             null|           null|   null|     null|\n",
            "|whole wheat pasta|french fries|         null|            null|         null|            null|          null|          null|        null|                null|          null|     null| null| null|         null|  null|             null|           null|   null|     null|\n",
            "|             soup| light cream|      shallot|            null|         null|            null|          null|          null|        null|                null|          null|     null| null| null|         null|  null|             null|           null|   null|     null|\n",
            "|frozen vegetables|   spaghetti|    green tea|            null|         null|            null|          null|          null|        null|                null|          null|     null| null| null|         null|  null|             null|           null|   null|     null|\n",
            "|     french fries|        null|         null|            null|         null|            null|          null|          null|        null|                null|          null|     null| null| null|         null|  null|             null|           null|   null|     null|\n",
            "|             eggs|    pet food|         null|            null|         null|            null|          null|          null|        null|                null|          null|     null| null| null|         null|  null|             null|           null|   null|     null|\n",
            "|          cookies|        null|         null|            null|         null|            null|          null|          null|        null|                null|          null|     null| null| null|         null|  null|             null|           null|   null|     null|\n",
            "|           turkey|     burgers|mineral water|            eggs|  cooking oil|            null|          null|          null|        null|                null|          null|     null| null| null|         null|  null|             null|           null|   null|     null|\n",
            "|        spaghetti|   champagne|      cookies|            null|         null|            null|          null|          null|        null|                null|          null|     null| null| null|         null|  null|             null|           null|   null|     null|\n",
            "|    mineral water|      salmon|         null|            null|         null|            null|          null|          null|        null|                null|          null|     null| null| null|         null|  null|             null|           null|   null|     null|\n",
            "|    mineral water|        null|         null|            null|         null|            null|          null|          null|        null|                null|          null|     null| null| null|         null|  null|             null|           null|   null|     null|\n",
            "|           shrimp|   chocolate|      chicken|           honey|          oil|     cooking oil|low fat yogurt|          null|        null|                null|          null|     null| null| null|         null|  null|             null|           null|   null|     null|\n",
            "|           turkey|        eggs|         null|            null|         null|            null|          null|          null|        null|                null|          null|     null| null| null|         null|  null|             null|           null|   null|     null|\n",
            "|           turkey|  fresh tuna|     tomatoes|       spaghetti|mineral water|       black tea|        salmon|          eggs|     chicken|extra dark chocolate|          null|     null| null| null|         null|  null|             null|           null|   null|     null|\n",
            "|        meatballs|        milk|        honey|    french fries|  protein bar|            null|          null|          null|        null|                null|          null|     null| null| null|         null|  null|             null|           null|   null|     null|\n",
            "+-----------------+------------+-------------+----------------+-------------+----------------+--------------+--------------+------------+--------------------+--------------+---------+-----+-----+-------------+------+-----------------+---------------+-------+---------+\n",
            "only showing top 20 rows\n",
            "\n"
          ],
          "name": "stdout"
        }
      ]
    },
    {
      "cell_type": "code",
      "metadata": {
        "id": "LQOvOUkga_no"
      },
      "source": [
        "def remove_duplicate_columns(x):\n",
        "    # Chiều dài của cột\n",
        "    col_len = len(x)\n",
        "    \n",
        "    # RDD trống - tập hợp các giá trị\n",
        "    columns = set()\n",
        "    \n",
        "    # Loại bỏ bất kỳ khoảng trắng bổ sung nào khỏi các phần tử và thêm các phần tử vào cột từ RDD 'x'\n",
        "    for col in range(col_len):\n",
        "        x_col = str(x[col]).strip()\n",
        "        columns.add(x_col)\n",
        "    \n",
        "    # Để kiểm tra xem các phần tử có trong khung dữ liệu / RDD được cung cấp hay không\n",
        "    if len(columns) < col_len:\n",
        "        return []\n",
        "    \n",
        "    # Trả lại danh sách các mục đã được sắp xếp trong từng phần tử dưới dạng tuple\n",
        "    return [(tuple(sorted(columns)))]"
      ],
      "execution_count": 5,
      "outputs": []
    },
    {
      "cell_type": "code",
      "metadata": {
        "id": "ze8jX77BbE_Q"
      },
      "source": [
        "# Đối với tập dữ liệu đã cho, viết một hàm để trả về danh sách các mục riêng biệt trong tập dữ liệu\n",
        "\n",
        "def generate_unique_item_set(df):\n",
        "    # dataframe trống\n",
        "    total_item_set_df = None\n",
        "    \n",
        "    # Lặp lại từng cột - 20 cột\n",
        "    for col_index in range(20):\n",
        "        \n",
        "        # Đang tải các phần tử của từng cột riêng lẻ\n",
        "        _c_df = df.select(\"_c\" + str(col_index))\n",
        "        \n",
        "        if total_item_set_df is None:\n",
        "            # Không có cho lần lặp đầu tiên trong vòng lặp\n",
        "            total_item_set_df = _c_df\n",
        "            \n",
        "        else:\n",
        "            # Sau lần lặp đầu tiên, nối các mục nhập từ mỗi cột thành total_item_set_df\n",
        "            total_item_set_df = total_item_set_df.union(_c_df)\n",
        "            \n",
        "     # Giá trị trả về: Khung dữ liệu với các mục duy nhất (không lặp lại) và các giá trị rỗng bị xóa khỏi dataFrame\n",
        "     # df.na cung cấp tất cả các giá trị null; tất cả các giá trị null phải được loại bỏ\n",
        "     # .rdd chuyển đổi DataFrame thành RDD\n",
        "     # remove_duplicate_columns phải được áp dụng cho các phần tử của RDD để mỗi mục trong giao dịch là một phần tử riêng biệt\n",
        "     # Hãy nhớ rằng hàm 'remove_duplicate_columns' được áp dụng cho từng phần tử của RDD, nói tóm lại, mọi hàng của khung dữ liệu phải được chuyển vào đó.\n",
        "    \n",
        "    return total_item_set_df.select(\"_c0\").na.drop().rdd.flatMap(remove_duplicate_columns).distinct().toDF()"
      ],
      "execution_count": 6,
      "outputs": []
    },
    {
      "cell_type": "code",
      "metadata": {
        "colab": {
          "base_uri": "https://localhost:8080/"
        },
        "id": "kDq0kZV6bLQ5",
        "outputId": "a87e1ddd-6a59-43eb-9815-fea1248e544c"
      },
      "source": [
        "item_sets = generate_unique_item_set(transaction_df)\n",
        "item_sets.show()"
      ],
      "execution_count": 7,
      "outputs": [
        {
          "output_type": "stream",
          "text": [
            "+--------------------+\n",
            "|                  _1|\n",
            "+--------------------+\n",
            "|   whole wheat pasta|\n",
            "|           asparagus|\n",
            "|            pancakes|\n",
            "|         blueberries|\n",
            "|            zucchini|\n",
            "|              shrimp|\n",
            "|             burgers|\n",
            "|           spaghetti|\n",
            "|         french wine|\n",
            "|       strong cheese|\n",
            "|extra dark chocolate|\n",
            "|              melons|\n",
            "|               cream|\n",
            "|   frozen vegetables|\n",
            "|           meatballs|\n",
            "|          energy bar|\n",
            "|            escalope|\n",
            "|        energy drink|\n",
            "|                mint|\n",
            "|      vegetables mix|\n",
            "+--------------------+\n",
            "only showing top 20 rows\n",
            "\n"
          ],
          "name": "stdout"
        }
      ]
    },
    {
      "cell_type": "code",
      "metadata": {
        "colab": {
          "base_uri": "https://localhost:8080/"
        },
        "id": "DT3w1fMbbWTp",
        "outputId": "1831b1d8-de42-4efd-edbe-bda7fd791213"
      },
      "source": [
        "item_sets.count()"
      ],
      "execution_count": 8,
      "outputs": [
        {
          "output_type": "execute_result",
          "data": {
            "text/plain": [
              "119"
            ]
          },
          "metadata": {
            "tags": []
          },
          "execution_count": 8
        }
      ]
    },
    {
      "cell_type": "code",
      "metadata": {
        "id": "PkdwpfrTbX0o"
      },
      "source": [
        "def filter_and_map_transaction(x, candidate_set_shared):\n",
        "    \n",
        "    c_k = []\n",
        "    \n",
        "    rows = len(candidate_set_shared.value)\n",
        "    cols = len(candidate_set_shared.value[0])\n",
        "    \n",
        "    # Kiểm tra từng giao dịch\n",
        "    for row_i in range(rows):\n",
        "        item_set = set()\n",
        "        for col_i in range(cols):\n",
        "            item_set.add(candidate_set_shared.value[row_i][col_i])\n",
        "        \n",
        "        # Ánh xạ điều kiện với giá trị chính xác (1/0)\n",
        "        if item_set.issubset(set(x)):\n",
        "            c_k.append((candidate_set_shared.value[row_i], 1))\n",
        "        else:\n",
        "            c_k.append((candidate_set_shared.value[row_i], 0))\n",
        "    return c_k\n"
      ],
      "execution_count": 9,
      "outputs": []
    },
    {
      "cell_type": "code",
      "metadata": {
        "id": "A_AM384EbfZ5"
      },
      "source": [
        "def get_all_possible_candidate_sets(candidate_item_sets_k, candidate_item_sets_0):\n",
        "    \n",
        "    # Chuyển đổi các phần tử của application_item_sets_k từ định dạng danh sách thành tuple\n",
        "    # Bạn có thể tham khảo các lệnh dưới đây để kiểm tra lý do tại sao chỉ phần tử đầu tiên được sử dụng để chuyển đổi\n",
        "    candidate_item_sets_k = candidate_item_sets_k.map(lambda x: tuple(x[0])).toDF()\n",
        "    # toDF() chuyển đổi rdd thành dataFrame\n",
        "    \n",
        "    # Trả lại đơn hàng k + 1\n",
        "    return candidate_item_sets_k.crossJoin(candidate_item_sets_0).rdd.flatMap(remove_duplicate_columns).distinct()\n",
        "    # crossJoin sẽ giúp kết hợp một phần tử của một dataFrame với tất cả các phần tử của dataFrame khác"
      ],
      "execution_count": 10,
      "outputs": []
    },
    {
      "cell_type": "code",
      "metadata": {
        "id": "BtZfMp6Mbpzg"
      },
      "source": [
        "def get_freq_item_sets(total_records, candidate_sets_shared, transaction_df_rdd, min_support):\n",
        "    filtered_item_set = transaction_df_rdd.flatMap(lambda x: filter_and_map_transaction(x, candidate_sets_shared)).reduceByKey(lambda a, b: a+b).map(lambda x: (x[0], x[1]/total_records)).filter(lambda x: x[1]>=min_support)\n",
        "    return filtered_item_set"
      ],
      "execution_count": 11,
      "outputs": []
    },
    {
      "cell_type": "code",
      "metadata": {
        "id": "TMW6PCLMbrbh"
      },
      "source": [
        "def is_freq_item_set_not_empty(freq_item_sets):\n",
        "    return (freq_item_sets.count() > 0) and (freq_item_sets is not None)\n",
        "    "
      ],
      "execution_count": 12,
      "outputs": []
    },
    {
      "cell_type": "code",
      "metadata": {
        "id": "6iVnqHvSb4uh"
      },
      "source": [
        "def apriori(item_sets, transaction_df_rdd, min_support):\n",
        "    total_records = transaction_df_rdd.count()\n",
        "    freq_item_sets_all_orders = []\n",
        "    candidate_sets_order_1 = spark.sparkContext.broadcast(item_sets.collect())\n",
        "    frequent_item_sets_order_1 = get_freq_item_sets(total_records, candidate_sets_order_1, transaction_df_rdd, min_support)\n",
        "    freq_item_sets_all_orders.append(frequent_item_sets_order_1)\n",
        "    frequent_item_sets_order_1_df = frequent_item_sets_order_1.map(lambda x:tuple(x[0])).toDF()\n",
        "    k = 0\n",
        "    while is_freq_item_set_not_empty(freq_item_sets_all_orders[k]):\n",
        "        current_candidate_sets = get_all_possible_candidate_sets(freq_item_sets_all_orders[k], frequent_item_sets_order_1_df)\n",
        "        current_candidate_sets = spark.sparkContext.broadcast(current_candidate_sets.collect())\n",
        "        current_frequent_item_sets = get_freq_item_sets(total_records, current_candidate_sets, transaction_df_rdd, min_support)\n",
        "        freq_item_sets_all_orders.append(current_frequent_item_sets)\n",
        "        k += 1\n",
        "    return freq_item_sets_all_orders"
      ],
      "execution_count": 13,
      "outputs": []
    },
    {
      "cell_type": "code",
      "metadata": {
        "colab": {
          "base_uri": "https://localhost:8080/"
        },
        "id": "Zq1jHKHHb7qR",
        "outputId": "79407e53-98fa-4847-fb55-849b618a738f"
      },
      "source": [
        "transaction_df_rdd = transaction_df.rdd\n",
        "freq_item_sets_all_orders = apriori(item_sets, transaction_df_rdd, 0.01)\n",
        "\n",
        "print(freq_item_sets_all_orders)"
      ],
      "execution_count": 14,
      "outputs": [
        {
          "output_type": "stream",
          "text": [
            "[PythonRDD[177] at RDD at PythonRDD.scala:53, PythonRDD[178] at RDD at PythonRDD.scala:53, PythonRDD[179] at RDD at PythonRDD.scala:53, PythonRDD[180] at RDD at PythonRDD.scala:53]\n"
          ],
          "name": "stdout"
        }
      ]
    },
    {
      "cell_type": "code",
      "metadata": {
        "colab": {
          "base_uri": "https://localhost:8080/"
        },
        "id": "u995y_UNdVzK",
        "outputId": "b285550f-2073-4c03-e95a-d49451b8bb4a"
      },
      "source": [
        "freq_item_sets_all_orders[1].take(20)"
      ],
      "execution_count": 15,
      "outputs": [
        {
          "output_type": "execute_result",
          "data": {
            "text/plain": [
              "[(('pancakes', 'shrimp'), 0.010531929076123183),\n",
              " (('burgers', 'pancakes'), 0.010531929076123183),\n",
              " (('pancakes', 'spaghetti'), 0.025196640447940274),\n",
              " (('frozen vegetables', 'pancakes'), 0.013464871350486601),\n",
              " (('chocolate', 'pancakes'), 0.01986401813091588),\n",
              " (('green tea', 'pancakes'), 0.01639781362485002),\n",
              " (('milk', 'pancakes'), 0.01653112918277563),\n",
              " (('eggs', 'pancakes'), 0.021730435941874418),\n",
              " (('mineral water', 'pancakes'), 0.03372883615517931),\n",
              " (('french fries', 'pancakes'), 0.020130649246767097),\n",
              " (('ground beef', 'pancakes'), 0.014531395813891481),\n",
              " (('cake', 'pancakes'), 0.011865084655379284),\n",
              " (('olive oil', 'pancakes'), 0.010798560191974404),\n",
              " (('shrimp', 'spaghetti'), 0.021197173710171976),\n",
              " (('frozen vegetables', 'shrimp'), 0.01666444474070124),\n",
              " (('chocolate', 'shrimp'), 0.017997600319957337),\n",
              " (('shrimp', 'tomatoes'), 0.011198506865751233),\n",
              " (('green tea', 'shrimp'), 0.011465137981602452),\n",
              " (('milk', 'shrimp'), 0.01759765364618051),\n",
              " (('eggs', 'shrimp'), 0.014131449140114652)]"
            ]
          },
          "metadata": {
            "tags": []
          },
          "execution_count": 15
        }
      ]
    }
  ]
}
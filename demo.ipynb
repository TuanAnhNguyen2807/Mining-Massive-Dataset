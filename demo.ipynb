{
  "nbformat": 4,
  "nbformat_minor": 0,
  "metadata": {
    "colab": {
      "name": "demo.ipynb",
      "provenance": [],
      "collapsed_sections": [],
      "authorship_tag": "ABX9TyPWUfX91iD3fRsVQmqCpNHp",
      "include_colab_link": true
    },
    "kernelspec": {
      "name": "python3",
      "display_name": "Python 3"
    }
  },
  "cells": [
    {
      "cell_type": "markdown",
      "metadata": {
        "id": "view-in-github",
        "colab_type": "text"
      },
      "source": [
        "<a href=\"https://colab.research.google.com/github/TuanAnhNguyen2807/Mining-Massive-Dataset/blob/main/demo.ipynb\" target=\"_parent\"><img src=\"https://colab.research.google.com/assets/colab-badge.svg\" alt=\"Open In Colab\"/></a>"
      ]
    },
    {
      "cell_type": "code",
      "metadata": {
        "colab": {
          "base_uri": "https://localhost:8080/"
        },
        "id": "8nuLILIASs29",
        "outputId": "dc55fa42-dd22-4128-bd79-bf105ddb1eeb"
      },
      "source": [
        "!pip install pyspark\r\n"
      ],
      "execution_count": 7,
      "outputs": [
        {
          "output_type": "stream",
          "text": [
            "Requirement already satisfied: pyspark in /usr/local/lib/python3.6/dist-packages (3.0.2)\n",
            "Requirement already satisfied: py4j==0.10.9 in /usr/local/lib/python3.6/dist-packages (from pyspark) (0.10.9)\n"
          ],
          "name": "stdout"
        }
      ]
    },
    {
      "cell_type": "code",
      "metadata": {
        "colab": {
          "base_uri": "https://localhost:8080/"
        },
        "id": "c5e5_DsiT_pM",
        "outputId": "7d50b552-10f5-4215-e6dd-25df19f9ffa8"
      },
      "source": [
        "import pyspark\r\n",
        "from pyspark import SparkConf, SparkContext\r\n",
        "from pyspark.sql import SparkSession\r\n",
        "from google.colab import drive\r\n",
        "drive.mount('/content/drive')\r\n",
        "import collections\r\n",
        "conf = SparkConf().setMaster(\"local\").setAppName(\"count\")\r\n",
        "sc = SparkContext.getOrCreate(conf=conf)"
      ],
      "execution_count": 9,
      "outputs": [
        {
          "output_type": "stream",
          "text": [
            "Drive already mounted at /content/drive; to attempt to forcibly remount, call drive.mount(\"/content/drive\", force_remount=True).\n"
          ],
          "name": "stdout"
        }
      ]
    },
    {
      "cell_type": "code",
      "metadata": {
        "colab": {
          "base_uri": "https://localhost:8080/"
        },
        "id": "VGg-mY80U7-C",
        "outputId": "36abd217-7958-40d1-ece0-07ca9f42bc09"
      },
      "source": [
        "spark = SparkSession.builder.master(\"local[1]\").appName(\"SparkExample\").getOrCreate()  \r\n",
        "data = [('Project', 1),\r\n",
        "('Gutenberg’s', 1),\r\n",
        "('Alice’s', 1),\r\n",
        "('Adventures', 1),\r\n",
        "('in', 1),\r\n",
        "('Wonderland', 1),\r\n",
        "('Project', 1),\r\n",
        "('Gutenberg’s', 1),\r\n",
        "('Adventures', 1),\r\n",
        "('in', 1),\r\n",
        "('Wonderland', 1),\r\n",
        "('Project', 1),\r\n",
        "('Gutenberg’s', 1)]\r\n",
        "rdd=spark.sparkContext.parallelize(data)\r\n",
        "test = rdd.reduceByKey(lambda x, y: x + y)\r\n",
        "list_test= test.collect()\r\n",
        "print(list_test)\r\n",
        "\r\n"
      ],
      "execution_count": 12,
      "outputs": [
        {
          "output_type": "stream",
          "text": [
            "[('Project', 3), ('Gutenberg’s', 3), ('Alice’s', 1), ('Adventures', 2), ('in', 2), ('Wonderland', 2)]\n"
          ],
          "name": "stdout"
        }
      ]
    },
    {
      "cell_type": "markdown",
      "metadata": {
        "id": "Xf67RjpYYNvR"
      },
      "source": [
        ""
      ]
    },
    {
      "cell_type": "code",
      "metadata": {
        "colab": {
          "base_uri": "https://localhost:8080/"
        },
        "id": "hqN3Wh27-XnH",
        "outputId": "b965e77e-9da6-42a9-83e4-b2d991e1c210"
      },
      "source": [
        "text_file = sc.textFile(\"drive/MyDrive/BigData/Week2/text.txt\")\r\n",
        "n_words = text_file.map(lambda line : len(line.split()))\r\n",
        "llist = n_words.collect()\r\n",
        "for i in llist:\r\n",
        "  print(i)\r\n"
      ],
      "execution_count": 19,
      "outputs": [
        {
          "output_type": "stream",
          "text": [
            "4\n",
            "3\n",
            "5\n"
          ],
          "name": "stdout"
        }
      ]
    },
    {
      "cell_type": "markdown",
      "metadata": {
        "id": "qJobPIBJYPBK"
      },
      "source": [
        "**Spark DataFrame**\r\n"
      ]
    },
    {
      "cell_type": "code",
      "metadata": {
        "colab": {
          "base_uri": "https://localhost:8080/"
        },
        "id": "OdN5v6kMZv9h",
        "outputId": "fb6875d9-1753-41b0-c319-871e54c19169"
      },
      "source": [
        "columns = [\"id\",\"firstname\",\"middlename\",\"lastname\",\"gender\",\"country\"]\r\n",
        "data = [('A1','Nguyen','Tuan','Anh','Nam','DL'),\r\n",
        "        ('A2','Pham','Van','A','Nam','DL'),\r\n",
        "        ('A3','Tran','Tuan','Anh','Nam','BT'),\r\n",
        "        ('A4','Nguyen','Ngoc Hong','Phuc','Nu','HCM'),\r\n",
        "        ('A5','Dang','Tuan','Anh','Nam','DL')\r\n",
        "]\r\n",
        "df = spark.createDataFrame(data=data, schema = columns)\r\n",
        "df.show()"
      ],
      "execution_count": null,
      "outputs": [
        {
          "output_type": "stream",
          "text": [
            "+---+---------+----------+--------+------+-------+\n",
            "| id|firstname|middlename|lastname|gender|country|\n",
            "+---+---------+----------+--------+------+-------+\n",
            "| A1|   Nguyen|      Tuan|     Anh|   Nam|     DL|\n",
            "| A2|     Pham|       Van|       A|   Nam|     DL|\n",
            "| A3|     Tran|      Tuan|     Anh|   Nam|     BT|\n",
            "| A4|   Nguyen| Ngoc Hong|    Phuc|    Nu|    HCM|\n",
            "| A5|     Dang|      Tuan|     Anh|   Nam|     DL|\n",
            "+---+---------+----------+--------+------+-------+\n",
            "\n"
          ],
          "name": "stdout"
        }
      ]
    },
    {
      "cell_type": "markdown",
      "metadata": {
        "id": "PWPs6EPCdqOK"
      },
      "source": [
        "**PySpark SQL**"
      ]
    },
    {
      "cell_type": "code",
      "metadata": {
        "colab": {
          "base_uri": "https://localhost:8080/"
        },
        "id": "ifFy_KyveQKY",
        "outputId": "2ff605a6-8853-45c6-db01-d469e11ab83f"
      },
      "source": [
        "df.createOrReplaceTempView(\"Student_Data\")\r\n",
        "df2 = spark.sql(\"SELECT * from Student_Data\")\r\n",
        "df2.printSchema()\r\n",
        "df2.show()"
      ],
      "execution_count": null,
      "outputs": [
        {
          "output_type": "stream",
          "text": [
            "root\n",
            " |-- id: string (nullable = true)\n",
            " |-- firstname: string (nullable = true)\n",
            " |-- middlename: string (nullable = true)\n",
            " |-- lastname: string (nullable = true)\n",
            " |-- gender: string (nullable = true)\n",
            " |-- country: string (nullable = true)\n",
            "\n",
            "+---+---------+----------+--------+------+-------+\n",
            "| id|firstname|middlename|lastname|gender|country|\n",
            "+---+---------+----------+--------+------+-------+\n",
            "| A1|   Nguyen|      Tuan|     Anh|   Nam|     DL|\n",
            "| A2|     Pham|       Van|       A|   Nam|     DL|\n",
            "| A3|     Tran|      Tuan|     Anh|   Nam|     BT|\n",
            "| A4|   Nguyen| Ngoc Hong|    Phuc|    Nu|    HCM|\n",
            "| A5|     Dang|      Tuan|     Anh|   Nam|     DL|\n",
            "+---+---------+----------+--------+------+-------+\n",
            "\n"
          ],
          "name": "stdout"
        }
      ]
    },
    {
      "cell_type": "code",
      "metadata": {
        "colab": {
          "base_uri": "https://localhost:8080/"
        },
        "id": "oV8Y4WLseiFg",
        "outputId": "2a13024c-967b-4549-e907-0b75e127eaab"
      },
      "source": [
        "temp = spark.sql(\"SELECT lastname, country from Student_Data\")\r\n",
        "temp.show()"
      ],
      "execution_count": null,
      "outputs": [
        {
          "output_type": "stream",
          "text": [
            "+--------+-------+\n",
            "|lastname|country|\n",
            "+--------+-------+\n",
            "|     Anh|     DL|\n",
            "|       A|     DL|\n",
            "|     Anh|     BT|\n",
            "|    Phuc|    HCM|\n",
            "|     Anh|     DL|\n",
            "+--------+-------+\n",
            "\n"
          ],
          "name": "stdout"
        }
      ]
    }
  ]
}
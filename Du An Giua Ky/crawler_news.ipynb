{
  "nbformat": 4,
  "nbformat_minor": 0,
  "metadata": {
    "colab": {
      "name": "crawler_news.ipynb",
      "provenance": [],
      "collapsed_sections": []
    },
    "kernelspec": {
      "name": "python3",
      "display_name": "Python 3"
    },
    "language_info": {
      "name": "python"
    }
  },
  "cells": [
    {
      "cell_type": "code",
      "metadata": {
        "id": "oPaUJ0amdfYi"
      },
      "source": [
        "import time\n",
        "import urllib\n",
        "import requests\n",
        "import bs4\n",
        "import pandas as pd\n",
        "import numpy as np\n",
        "import matplotlib.pyplot as plt"
      ],
      "execution_count": 1,
      "outputs": []
    },
    {
      "cell_type": "code",
      "metadata": {
        "id": "w-pOl-_rRIIM"
      },
      "source": [
        "url = \"https://tuoitre.vn\""
      ],
      "execution_count": 2,
      "outputs": []
    },
    {
      "cell_type": "code",
      "metadata": {
        "id": "MX3Zp94XRXJA"
      },
      "source": [
        "def request_url(link):\n",
        "    response = requests.get(link)\n",
        "    html = response.text\n",
        "    return html"
      ],
      "execution_count": 3,
      "outputs": []
    },
    {
      "cell_type": "code",
      "metadata": {
        "id": "m_Bn4a2DRZxA"
      },
      "source": [
        "def parse_html(to_parse):\n",
        "    soup = bs4.BeautifulSoup(to_parse, 'html.parser')\n",
        "    return soup"
      ],
      "execution_count": 4,
      "outputs": []
    },
    {
      "cell_type": "code",
      "metadata": {
        "id": "EKirQMUURa3I"
      },
      "source": [
        "def all_section(main_url):\n",
        "    soup = parse_html(request_url(url))\n",
        "    ul = soup.find(\"ul\", {\"class\" : \"menu-ul\"})\n",
        "    section_list = []\n",
        "    for li in ul.find_all('li'):\n",
        "        section_list.append(li.a.get('href'))\n",
        "    remove = [0, 1, -1, -1, -1]\n",
        "    for i in remove:\n",
        "        section_list.remove(section_list[i])\n",
        "    return section_list"
      ],
      "execution_count": 5,
      "outputs": []
    },
    {
      "cell_type": "code",
      "metadata": {
        "colab": {
          "base_uri": "https://localhost:8080/"
        },
        "id": "LuCmaX35Rg9y",
        "outputId": "6eba78cf-f72b-4b72-9882-6f7580356264"
      },
      "source": [
        "section_urls = all_section(url)\n",
        "section_urls"
      ],
      "execution_count": 6,
      "outputs": [
        {
          "output_type": "execute_result",
          "data": {
            "text/plain": [
              "['/thoi-su.htm',\n",
              " '/phap-luat.htm',\n",
              " '/kinh-doanh.htm',\n",
              " '/cong-nghe.htm',\n",
              " '/xe.htm',\n",
              " 'https://dulich.tuoitre.vn',\n",
              " '/nhip-song-tre.htm',\n",
              " '/van-hoa.htm',\n",
              " '/giai-tri.htm',\n",
              " 'https://thethao.tuoitre.vn',\n",
              " '/giao-duc.htm',\n",
              " '/khoa-hoc.htm']"
            ]
          },
          "metadata": {
            "tags": []
          },
          "execution_count": 6
        }
      ]
    },
    {
      "cell_type": "code",
      "metadata": {
        "id": "zPaIeT82VWBz"
      },
      "source": [
        "grid_layout_urls = [0,1,2,3, 4, 6, 7, 8, 10,11]\n",
        "grid_urls = []"
      ],
      "execution_count": 7,
      "outputs": []
    },
    {
      "cell_type": "code",
      "metadata": {
        "id": "QgUlaRwdVbCo"
      },
      "source": [
        "for filter_url in grid_layout_urls:\n",
        "    grid_urls.append(section_urls[filter_url])"
      ],
      "execution_count": 8,
      "outputs": []
    },
    {
      "cell_type": "code",
      "metadata": {
        "colab": {
          "base_uri": "https://localhost:8080/"
        },
        "id": "qS7umbDwViiP",
        "outputId": "5b6db890-c3ae-4a70-cfd9-fb9d435f48c6"
      },
      "source": [
        "grid_urls"
      ],
      "execution_count": 9,
      "outputs": [
        {
          "output_type": "execute_result",
          "data": {
            "text/plain": [
              "['/thoi-su.htm',\n",
              " '/phap-luat.htm',\n",
              " '/kinh-doanh.htm',\n",
              " '/cong-nghe.htm',\n",
              " '/xe.htm',\n",
              " '/nhip-song-tre.htm',\n",
              " '/van-hoa.htm',\n",
              " '/giai-tri.htm',\n",
              " '/giao-duc.htm',\n",
              " '/khoa-hoc.htm']"
            ]
          },
          "metadata": {
            "tags": []
          },
          "execution_count": 9
        }
      ]
    },
    {
      "cell_type": "code",
      "metadata": {
        "id": "YTRoIbCQWZXR"
      },
      "source": [
        "def complete_url(half_url):\n",
        "    full_url = url + half_url\n",
        "    return full_url\n",
        "    \n",
        "def complete_url_2(half_url):\n",
        "    return half_url"
      ],
      "execution_count": 10,
      "outputs": []
    },
    {
      "cell_type": "code",
      "metadata": {
        "id": "SGNsv0R-Wf0R"
      },
      "source": [
        "final_grid_urls =[]"
      ],
      "execution_count": 11,
      "outputs": []
    },
    {
      "cell_type": "code",
      "metadata": {
        "id": "xs5I3HhRWjCB"
      },
      "source": [
        "for url_get in grid_urls:\n",
        "    final_grid_urls.append(complete_url(url_get))"
      ],
      "execution_count": 12,
      "outputs": []
    },
    {
      "cell_type": "code",
      "metadata": {
        "colab": {
          "base_uri": "https://localhost:8080/"
        },
        "id": "y68H-nelWuPz",
        "outputId": "1c582b9f-0ef0-4749-c86f-7adee6baf507"
      },
      "source": [
        "final_grid_urls"
      ],
      "execution_count": 13,
      "outputs": [
        {
          "output_type": "execute_result",
          "data": {
            "text/plain": [
              "['https://tuoitre.vn/thoi-su.htm',\n",
              " 'https://tuoitre.vn/phap-luat.htm',\n",
              " 'https://tuoitre.vn/kinh-doanh.htm',\n",
              " 'https://tuoitre.vn/cong-nghe.htm',\n",
              " 'https://tuoitre.vn/xe.htm',\n",
              " 'https://tuoitre.vn/nhip-song-tre.htm',\n",
              " 'https://tuoitre.vn/van-hoa.htm',\n",
              " 'https://tuoitre.vn/giai-tri.htm',\n",
              " 'https://tuoitre.vn/giao-duc.htm',\n",
              " 'https://tuoitre.vn/khoa-hoc.htm']"
            ]
          },
          "metadata": {
            "tags": []
          },
          "execution_count": 13
        }
      ]
    },
    {
      "cell_type": "code",
      "metadata": {
        "id": "ENGS-8yvYBCS"
      },
      "source": [
        "def valid_url(url):\n",
        "    try:\n",
        "        urllib2.urlopen(url)\n",
        "        return True\n",
        "    except Exception as e:\n",
        "        return False"
      ],
      "execution_count": 15,
      "outputs": []
    },
    {
      "cell_type": "code",
      "metadata": {
        "id": "QJ7i5tclYCLp"
      },
      "source": [
        "def collect(page_urls):\n",
        "    print(\"Trích xuất url bài viết:\")\n",
        "    all_urls = set()\n",
        "    for page_url in page_urls:\n",
        "        print(page_url)\n",
        "        soup_page = parse_html(request_url(page_url))\n",
        "        for div in soup_page.find_all(class_=\"h3\"):\n",
        "            sec_head_href = div.find(\"a\").get(\"href\")\n",
        "            if valid_url(sec_head_href):\n",
        "                all_urls.add(sec_head_href)\n",
        "            else:\n",
        "                all_urls.add(complete_url(sec_head_href))\n",
        "    return all_urls"
      ],
      "execution_count": 16,
      "outputs": []
    },
    {
      "cell_type": "code",
      "metadata": {
        "colab": {
          "base_uri": "https://localhost:8080/"
        },
        "id": "o3fB3yBmYId9",
        "outputId": "756321c5-4c08-43c3-9f5c-fcb93cd27ebd"
      },
      "source": [
        "all_urls = collect(final_grid_urls)"
      ],
      "execution_count": 17,
      "outputs": [
        {
          "output_type": "stream",
          "text": [
            "Trích xuất url bài viết:\n",
            "https://tuoitre.vn/thoi-su.htm\n",
            "https://tuoitre.vn/phap-luat.htm\n",
            "https://tuoitre.vn/kinh-doanh.htm\n",
            "https://tuoitre.vn/cong-nghe.htm\n",
            "https://tuoitre.vn/xe.htm\n",
            "https://tuoitre.vn/nhip-song-tre.htm\n",
            "https://tuoitre.vn/van-hoa.htm\n",
            "https://tuoitre.vn/giai-tri.htm\n",
            "https://tuoitre.vn/giao-duc.htm\n",
            "https://tuoitre.vn/khoa-hoc.htm\n"
          ],
          "name": "stdout"
        }
      ]
    },
    {
      "cell_type": "code",
      "metadata": {
        "id": "gq5H5AtKYXyB"
      },
      "source": [
        "def linear_layout_page(linear_url_list):\n",
        "    for url in linear_url_list:\n",
        "        soup = parse_html(request_url(url))\n",
        "        ul = soup.find(\"ul\", {\"class\":\"list-news-content\"})\n",
        "        for li in ul.find_all(\"li\"):\n",
        "            all_urls.add(complete_url(li.a.get('href')))\n",
        "    return all_urls"
      ],
      "execution_count": 18,
      "outputs": []
    },
    {
      "cell_type": "code",
      "metadata": {
        "id": "hjGtdTDeYbgC"
      },
      "source": [
        "all_urls = linear_layout_page(final_grid_urls)"
      ],
      "execution_count": 19,
      "outputs": []
    },
    {
      "cell_type": "code",
      "metadata": {
        "colab": {
          "base_uri": "https://localhost:8080/"
        },
        "id": "rUnDQWrVdsDx",
        "outputId": "20faea1f-f1ef-4a10-c4c7-41097b342fcd"
      },
      "source": [
        "len(all_urls)"
      ],
      "execution_count": 20,
      "outputs": [
        {
          "output_type": "execute_result",
          "data": {
            "text/plain": [
              "110"
            ]
          },
          "metadata": {
            "tags": []
          },
          "execution_count": 20
        }
      ]
    },
    {
      "cell_type": "code",
      "metadata": {
        "colab": {
          "base_uri": "https://localhost:8080/"
        },
        "id": "34i1ar_TrwSn",
        "outputId": "fafe5083-edee-4f12-baa2-440c076f3b5b"
      },
      "source": [
        "print(all_urls)"
      ],
      "execution_count": 21,
      "outputs": [
        {
          "output_type": "stream",
          "text": [
            "{'https://tuoitre.vn/no-29-trieu-bi-cuong-che-ban-nha-cua-thu-hoi-quyet-dinh-cuong-che-giai-toa-ke-bien-20210430180944757.htm', 'https://tuoitre.vn/xem-nghe-gi-dip-le-20210429100714263.htm', 'https://tuoitre.vn/ra-soat-xu-ly-cac-loi-trong-van-hanh-thu-phi-khong-dung-20210414180638509.htm', 'https://tuoitre.vn/thu-tuong-keu-goi-toan-dan-toan-quan-chung-tay-gac-viec-chua-can-thiet-cung-chinh-phu-chong-dich-20210430172208968.htm', 'https://tuoitre.vn/sap-nhap-truong-cao-dang-su-pham-ninh-thuan-vao-dai-hoc-nong-lam-tp-hcm-20210429090439614.htm', 'https://tuoitre.vn/nhat-ban-vien-tro-tau-nghien-cuu-khoa-hoc-bien-cho-viet-nam-20210423161256832.htm', 'https://tuoitre.vn/ngan-hang-chi-lon-cho-cuoc-dua-tri-tue-nhan-tao-2021042910551564.htm', 'https://tuoitre.vn/vu-porsche-macan-trung-bien-so-cham-mat-o-ha-noi-cong-bo-anh-tai-xe-deo-bien-gia-20210425151048953.htm', 'https://tuoitre.vn/co-loi-trong-quy-1-nhung-masan-van-con-phap-phong-voi-vincommerce-20210429152000029.htm', 'https://tuoitre.vn/ra-tu-moi-nua-nam-lai-lanh-an-tu-hinh-vi-danh-chet-ban-nghien-20210429132852224.htm', 'https://tuoitre.vn/mien-bac-mua-lon-co-noi-tren-120mm-mien-nam-mua-dong-chieu-toi-20210426071108214.htm', 'https://tuoitre.vn/con-chim-nho-mem-sao-gay-thuong-tich-cho-may-bay-20210422181717597.htm', 'https://tuoitre.vn/truong-ngap-lenh-lang-vi-nuoc-thai-tu-lang-giay-1-400-hoc-sinh-phai-nghi-hoc-20210429075529581.htm', 'https://tuoitre.vn/tat-ca-trong-mot-voi-may-in-da-chuc-nang-kho-giay-a3-hp-20210429150132425.htm', 'https://tuoitre.vn/lon-len-cung-trach-nhiem-voi-thanh-pho-20210429090447945.htm', 'https://tuoitre.vn/tau-vu-tru-cua-spacex-ket-noi-thanh-cong-voi-tram-iss-20210424220607708.htm', 'https://tuoitre.vn/cang-cao-tuoi-cang-ngu-it-la-binh-thuong-20210422172706913.htm', 'https://tuoitre.vn/bo-y-te-gui-cong-van-cho-bo-gd-dt-can-ngan-ngua-su-dung-thuoc-la-dien-tu-shisha-tai-truong-20210428191528958.htm', 'https://tuoitre.vn/nhieu-hang-cong-nghe-trinh-lang-san-pham-moi-2021042916485941.htm', 'https://tuoitre.vn/bat-khan-cap-2-nghi-pham-trom-tien-va-vang-trong-ket-sat-gan-600-trieu-dong-20210430200515218.htm', 'https://tuoitre.vn/my-tro-lai-cung-trung-quoc-cam-ket-cat-giam-khi-thai-20210422211729021.htm', 'https://tuoitre.vn/phat-hien-bai-go-lon-chim-duoi-long-ho-se-san-20210430165956504.htm', 'https://tuoitre.vn/gia-dinh-co-chu-tich-samsung-nop-108-ti-usd-tien-thue-thua-ke-tai-san-20210429090803429.htm', 'https://tuoitre.vn/bao-va-ap-thap-nhiet-doi-bat-dau-hoat-dong-tren-bien-dong-tu-thang-6-20210427110436477.htm', 'https://tuoitre.vn/quyet-dinh-tuyen-dung-8-bien-che-truoc-nghi-huu-phong-to-chuc-can-bo-khong-tham-muu-20210428160427402.htm', 'https://tuoitre.vn/phi-dieu-thanh-vy-minh-vuong-thoai-mieu-chuc-mung-ra-mat-phong-truyen-thong-cai-luong-20210429122631801.htm', 'https://tuoitre.vn/cap-xe-sang-porsche-macan-trung-bien-so-cham-mat-o-ha-noi-20210419114910207.htm', 'https://tuoitre.vn/bien-xe-yeu-thanh-smartcar-voi-hud-dan-duong-vietmap-moi-20210417142515612.htm', 'https://tuoitre.vn/cong-an-khen-thuong-2-phu-nu-dung-tay-khong-bat-cuop-co-dao-20210429121317118.htm', 'https://tuoitre.vn/no-sung-ban-chet-2-nguoi-roi-dau-thu-giao-nop-sung-20210430210125874.htm', 'https://tuoitre.vn/35-nam-tham-hoa-hat-nhan-chernobyl-co-anh-huong-di-truyen-voi-con-nguoi-20210427175303575.htm', 'https://tuoitre.vn/nhun-nhay-moi-nguoi-kho-khan-banh-mi-mien-phi-20210429110136702.htm', 'https://tuoitre.vn/xe-buyt-tp-hcm-giam-hon-7-000-chuyen-dip-le-hanh-khach-chu-y-lich-trinh-di-lai-2021041911360866.htm', 'https://tuoitre.vn/hai-phong-dung-karaoke-vu-truong-ra-khoi-nha-phai-deo-khau-trang-20210430214017347.htm', 'https://tuoitre.vn/fed-giu-nguyen-lai-suat-gia-vang-the-gioi-len-sat-1-800-usd-ounce-20210429114018829.htm', 'https://tuoitre.vn/le-30-4-cac-ben-xe-lon-tai-tp-hcm-tang-20-60-gia-ve-mot-so-tuyen-20210419152203027.htm', 'https://tuoitre.vn/fpt-shop-giam-den-10-cho-tat-ca-laptop-chinh-hang-mung-ngay-le-lon-20210429162958.htm', 'https://tuoitre.vn/khach-di-lai-dong-duc-dip-30-4-tan-son-nhat-hoa-giai-un-tac-ra-sao-20210430144309459.htm', 'https://tuoitre.vn/xe-container-boc-chay-ngun-ngut-khi-dung-den-do-tren-xa-lo-ha-noi-20210419142334544.htm', 'https://tuoitre.vn/ba-ngay-nghi-le-o-nha-nao-cung-du-hanh-truc-tuyen-xem-choi-dien-tu-va-nghe-nhac-online-20210429093632944.htm', 'https://tuoitre.vn/ren-ky-nang-o-ngan-hang-benh-vien-truoc-khi-tot-nghiep-dh-20210428085528161.htm', 'https://tuoitre.vn/ninh-thuan-moi-chuyen-gia-dia-chat-phan-tich-bai-da-co-20210423192040429.htm', 'https://tuoitre.vn/nguoi-phu-nu-trong-can-sa-trong-vuon-de-chua-benh-mat-ngu-20210429151538976.htm', 'https://tuoitre.vn/sap-co-dai-le-hoi-3f-dua-xe-va-giai-tri-tai-viet-nam-20210424133928492.htm', 'https://tuoitre.vn/nghien-cuu-moi-xac-suat-nhiem-virus-rat-thap-sau-khi-tiem-vac-xin-covid-19-20210422094415642.htm', 'https://tuoitre.vn/chieu-30-4-them-14-ca-mac-covid-19-moi-4-ca-cong-dong-tai-ha-nam-va-ha-noi-20210430184401249.htm', 'https://tuoitre.vn/chieu-nay-28-4-ha-noi-co-mua-dong-de-phong-mua-da-va-gio-giat-manh-20210428062219996.htm', 'https://tuoitre.vn/bat-giu-3-nguoi-nhap-canh-trai-phep-bang-duong-bien-vao-phu-quoc-20210429100552004.htm', 'https://tuoitre.vn/kinh-te-my-phuc-hoi-an-tuong-nho-day-manh-tiem-vac-xin-202104301301246.htm', 'https://tuoitre.vn/dung-video-call-xac-thuc-khach-hang-khi-kich-hoat-thue-bao-di-dong-de-xu-ly-sim-rac-20210430094202417.htm', 'https://tuoitre.vn/quet-ma-qr-tren-can-cuoc-cong-dan-gan-chip-se-thay-thong-tin-ca-nhan-nao-20210429135406068.htm', 'https://tuoitre.vn/vo-ha-tram-ke-ve-thuc-te-dia-nguc-covid-19-an-do-20210429144936212.htm', 'https://tuoitre.vn/heineken-dat-muc-tieu-trung-tinh-cac-bon-trong-san-xuat-vao-nam-2030-20210429133014062.htm', 'https://tuoitre.vn/ha-tinh-xet-nghiem-3-nguoi-o-khu-cach-ly-ket-qua-duong-tinh-covid-19-20210430212711246.htm', 'https://tuoitre.vn/chiec-khau-trang-vao-de-thi-van-lop-10-truong-chuyen-le-hong-phong-20210427181807795.htm', 'https://tuoitre.vn/giam-ap-luc-cho-giao-vien-20210428105602333.htm', 'https://tuoitre.vn/dieu-kien-kho-doanh-nghiep-chang-man-ma-tham-gia-dau-gia-han-ngach-oto-cu-2021041510562696.htm', 'https://tuoitre.vn/trom-40-000-usd-trong-oto-quen-dong-cua-lanh-7-nam-tu-20210429122540289.htm', 'https://tuoitre.vn/nguoi-phu-nu-vi-pham-giao-thong-con-can-danh-va-gia-danh-cong-an-20210430232135298.htm', 'https://tuoitre.vn/ngai-dong-duc-o-san-bay-ben-xe-khach-san-tim-thue-oto-tu-lai-dip-le-20210430152452332.htm', 'https://tuoitre.vn/sach-luyen-thi-danh-gia-nang-luc-vao-dh-quoc-gia-ha-noi-tren-mang-la-that-hay-gia-20210428182057927.htm', 'https://tuoitre.vn/ngan-chan-3-cong-dan-trung-quoc-nhap-canh-lui-vao-viet-nam-tim-viec-20210430192916593.htm', 'https://tuoitre.vn/dh-su-pham-ky-thuat-tp-hcm-chuyen-qua-hoc-truc-tuyen-vi-co-sinh-vien-dien-f1-2021043017180049.htm', 'https://tuoitre.vn/mien-bac-chuan-bi-co-2-dot-khong-khi-lanh-lien-tiep-nhieu-noi-mua-lon-20210424113655318.htm', 'https://tuoitre.vn/dam-vinh-hung-dap-tra-ba-nguyen-phuong-hang-chi-dang-danh-mat-minh-tung-ngay-tung-ngay-20210430162409595.htm', 'https://tuoitre.vn/truong-dh-ton-duc-thang-co-quyen-hieu-truong-8x-2021042722204144.htm', 'https://tuoitre.vn/tri-thuc-tre-vi-giao-duc-mua-thu-6-doi-moi-de-tang-ung-dung-thuc-tien-20210429081327371.htm', 'https://tuoitre.vn/sieu-thi-khu-vui-choi-dong-nghit-nhieu-noi-thua-nhan-khong-the-gian-cach-phong-dich-20210430134039691.htm', 'https://tuoitre.vn/van-hoc-bac-nhip-cau-buoc-qua-thu-han-20210426160612715.htm', 'https://tuoitre.vn/xe-khach-hai-khong-38-cho-nhoi-95-nguoi-tren-cao-toc-20210430092822433.htm', 'https://tuoitre.vn/eurocham-67-doanh-nghiep-noi-trien-vong-kinh-doanh-tai-viet-nam-xuat-sac-2021043012543265.htm', 'https://tuoitre.vn/hai-cha-con-cuu-binh-45-nam-tinh-nguyen-giu-yen-giac-ngu-cho-dong-doi-20210430164025361.htm', 'https://tuoitre.vn/tram-dung-xe-buyt-o-tp-hcm-do-sap-ra-duong-2-nguoi-may-man-thoat-nan-20210430200443971.htm', 'https://tuoitre.vn/nan-nhan-coolcat-da-mat-tram-ti-con-bi-du-choi-forex-danh-bai-online-go-lo-20210429121513322.htm', 'https://tuoitre.vn/de-xuat-phat-nguoi-khong-can-moi-chu-xe-de-xac-minh-20210416083151071.htm', 'https://tuoitre.vn/hang-nghin-nguoi-dan-mien-trung-duoc-tiep-can-nuoc-sach-2021042917010818.htm', 'https://tuoitre.vn/luyen-thi-danh-gia-nang-luc-tren-mang-can-than-mat-tien-oan-20210427214503014.htm', 'https://tuoitre.vn/dan-truong-thanh-ngan-k-icm-khuay-dong-pho-di-bo-nguyen-hue-dip-le-30-4-2021042918205028.htm', 'https://tuoitre.vn/dung-18h-chieu-30-4-cac-quan-o-pho-tay-bui-vien-don-do-dong-cua-20210430190627985.htm', 'https://tuoitre.vn/bi-yeu-cau-do-nong-do-con-tai-xe-co-thu-gan-3-tieng-trong-xe-20210416143136846.htm', 'https://tuoitre.vn/17-tieng-ngoi-xe-chua-den-duoc-da-lat-do-deo-bao-loc-un-tac-20210430164640356.htm', 'https://tuoitre.vn/bat-giu-4-nguoi-mong-nhap-canh-trai-phep-tu-lao-ve-viet-nam-20210429131817209.htm', 'https://tuoitre.vn/cu-dan-mang-than-troi-vi-12-tieng-di-chua-duoc-150km-2021043017042966.htm', 'https://tuoitre.vn/thuong-hieu-quoc-gia-viet-nam-khang-dinh-vi-the-tren-duong-hoi-nhap-20210427145941213.htm', 'https://tuoitre.vn/nguoi-hoc-trang-tay-bang-cap-da-duoc-hoc-vien-mua-viet-nam-trao-bang-20210429123134862.htm', 'https://tuoitre.vn/cuu-bo-truong-vu-huy-hoang-lanh-11-nam-tu-20210429163147325.htm', 'https://tuoitre.vn/campus-tour-tai-nova-college-giai-toa-con-khat-thong-tin-mua-tuyen-sinh-20210429101307541.htm', 'https://tuoitre.vn/nong-dan-trung-quoc-chan-bo-lac-da-tu-xa-qua-ve-tinh-20210425162800624.htm', 'https://tuoitre.vn/tp-hcm-xac-dinh-them-3-f1-cua-ca-mac-covid-19-o-ha-nam-20210430182556376.htm', 'https://tuoitre.vn/phat-dong-cuoc-thi-viet-ve-ky-nang-lao-dong-giai-thuong-20-trieu-dong-20210428152224049.htm', 'https://tuoitre.vn/nhung-hinh-anh-mot-thoi-hoa-si-sang-tac-duoi-mua-bom-bao-dan-20210429121957104.htm', 'https://tuoitre.vn/suzuki-ertiga-lua-chon-dang-can-nhac-cho-tai-xe-cong-nghe-20210430163515061.htm', 'https://tuoitre.vn/dan-so-tren-tram-vu-tru-quoc-te-dong-nhat-trong-hon-10-nam-qua-20210426074259813.htm', 'https://tuoitre.vn/bia-sai-gon-chi-manh-tien-quang-ba-de-canh-tranh-20210430114000317.htm', 'https://tuoitre.vn/trao-giai-sai-gon-bao-dung-tp-hcm-nghia-tinh-thay-oi-hom-nay-con-rat-vui-20210429100515469.htm', 'https://tuoitre.vn/thang-1-2022-nang-kiem-soat-khi-thai-oto-len-muc-5-viet-nam-nam-top-dau-asean-20210421115206104.htm', 'https://tuoitre.vn/gia-gas-tiep-tuc-giam-soc-them-19000-dong-2021043015244539.htm', 'https://tuoitre.vn/hang-van-nguoi-ve-cua-lo-tam-bien-nhieu-nguoi-quen-deo-khau-trang-20210430183758142.htm', 'https://tuoitre.vn/khoi-dong-chuong-trinh-tri-thuc-tre-vi-giao-duc-mua-thu-6-20210428103250955.htm', 'https://tuoitre.vn/xe-khach-tong-truc-dien-xe-tai-tai-xe-xe-tai-tu-vong-20210430223241303.htm', 'https://tuoitre.vn/cac-ban-tre-cung-nhau-nuoi-duong-thuong-hieu-tu-te-20210426170918956.htm', 'https://tuoitre.vn/ha-nam-thong-nhat-phuong-an-hoc-sinh-nghi-them-1-tuan-sau-le-20210430225609614.htm', 'https://tuoitre.vn/mien-nam-co-mua-trong-dip-le-20210427083917174.htm', 'https://tuoitre.vn/du-hoc-sinh-viet-va-uoc-mo-hoa-hop-dan-toc-20210428143342816.htm', 'https://tuoitre.vn/bat-14-thanh-thieu-nien-chay-xe-may-toc-do-cao-tren-quoc-lo-53-20210429152006831.htm', 'https://tuoitre.vn/facebook-apple-bung-no-loi-nhuan-quy-1-nho-covid-19-20210429104753005.htm', 'https://tuoitre.vn/chi-pu-phu-nhan-tin-don-mau-thuan-voi-dao-dien-victor-vu-20210430224232388.htm', 'https://tuoitre.vn/khach-tu-y-mo-cua-thoat-hiem-lam-bung-cau-phao-may-bay-hang-loat-chuyen-bay-gian-doan-20210430095443888.htm', 'https://tuoitre.vn/toyota-xay-ca-mot-thanh-pho-de-thu-xe-tu-hanh-20210427094508197.htm', 'https://tuoitre.vn/chieu-nay-tuyen-an-cuu-bo-truong-vu-huy-hoang-20210429141907794.htm'}\n"
          ],
          "name": "stdout"
        }
      ]
    },
    {
      "cell_type": "code",
      "metadata": {
        "id": "1oEnSaGSk7wq"
      },
      "source": [
        "def navigator(navigate_url):\n",
        "    next_page_url = []\n",
        "    next_page_set = set()\n",
        "    for navigate in navigate_url:\n",
        "        soup = parse_html(request_url(navigate))\n",
        "        url_class =  soup.find(\"div\",{\"class\":\"readmore\"})\n",
        "        page_nav = url_class.a.get(\"href\")\n",
        "        if page_nav == \"javascript:void(0);\":\n",
        "          navigate = navigate[:-4]\n",
        "          for page_number in range(1,70):\n",
        "            page_nav = navigate + \"/trang-\" + str(page_number) + \".htm\"\n",
        "            page_nav_next = complete_url_2(page_nav)\n",
        "            next_page_set.add(page_nav_next)\n",
        "    return next_page_set"
      ],
      "execution_count": 31,
      "outputs": []
    },
    {
      "cell_type": "code",
      "metadata": {
        "id": "xVIjg1EHk9vn"
      },
      "source": [
        "aditional_url_set = navigator(final_grid_urls)"
      ],
      "execution_count": 32,
      "outputs": []
    },
    {
      "cell_type": "code",
      "metadata": {
        "colab": {
          "base_uri": "https://localhost:8080/"
        },
        "id": "qjyWQfWtnDVG",
        "outputId": "e32c2729-1f41-4f3a-cb36-666bcf5ab29b"
      },
      "source": [
        "len(aditional_url_set)"
      ],
      "execution_count": 33,
      "outputs": [
        {
          "output_type": "execute_result",
          "data": {
            "text/plain": [
              "690"
            ]
          },
          "metadata": {
            "tags": []
          },
          "execution_count": 33
        }
      ]
    },
    {
      "cell_type": "code",
      "metadata": {
        "id": "xlol7otPnXt_"
      },
      "source": [
        "aditional_url_list = list(aditional_url_set)"
      ],
      "execution_count": 34,
      "outputs": []
    },
    {
      "cell_type": "code",
      "metadata": {
        "id": "XVJtm0XgnZqH"
      },
      "source": [
        "all_urls = linear_layout_page(aditional_url_list)"
      ],
      "execution_count": 35,
      "outputs": []
    },
    {
      "cell_type": "code",
      "metadata": {
        "id": "9ZOWlKN3nayO",
        "colab": {
          "base_uri": "https://localhost:8080/"
        },
        "outputId": "35e43759-75cf-4c8c-b4bb-f54d7382e8a1"
      },
      "source": [
        "len(all_urls)"
      ],
      "execution_count": 36,
      "outputs": [
        {
          "output_type": "execute_result",
          "data": {
            "text/plain": [
              "7310"
            ]
          },
          "metadata": {
            "tags": []
          },
          "execution_count": 36
        }
      ]
    },
    {
      "cell_type": "code",
      "metadata": {
        "id": "oKHJtUC4ngGI"
      },
      "source": [
        "article_urls_list= list(all_urls)\n"
      ],
      "execution_count": 37,
      "outputs": []
    },
    {
      "cell_type": "code",
      "metadata": {
        "id": "nrCouS0S0t93"
      },
      "source": [
        "df_final_urls = np.savetxt(\"final_urls.txt\",article_urls_list,fmt='%s')"
      ],
      "execution_count": 38,
      "outputs": []
    },
    {
      "cell_type": "code",
      "metadata": {
        "id": "9_0wNx23nkka"
      },
      "source": [
        "def article_text(article_urls):\n",
        "  text = []\n",
        "  for i in article_urls:\n",
        "    article_soup = parse_html(request_url(i))\n",
        "    content = article_soup.find(\"h1\",{\"class\":\"article-title\"}).get_text()\n",
        "    div = article_soup.find(\"div\",class_=\"content fck\")\n",
        "    for child_div in div.findAll(\"div\"):\n",
        "      child_div.decompose()\n",
        "    text.append(\"Nội dung bài viết \"+ content + \": \"+ div.get_text().replace(\"\\n\",\"\")) \n",
        "  return text\n",
        "# text = []\n",
        "# i=\"https://tuoitre.vn/ha-tang-nang-buoc-bat-dong-san-hau-giang-cat-canh-20210325222341283.htm\"\n",
        "# article_soup = parse_html(request_url(i))\n",
        "# content = article_soup.find(\"h1\",{\"class\":\"article-title\"}).get_text()\n",
        "\n",
        "# div = article_soup.find(\"div\",class_=\"content fck\") \n",
        "# for child_div in div.findAll(\"div\"):\n",
        "#   child_div.decompose()\n",
        "# text.append(\"Nội dung bài viết \"+ content + \": \"+ div.get_text().replace(\"\\n\",\"\"))  \n",
        "# print(text)"
      ],
      "execution_count": 55,
      "outputs": []
    },
    {
      "cell_type": "code",
      "metadata": {
        "id": "6YjnCcsUnDjj"
      },
      "source": [
        "if len(article_urls_list) > 50:\n",
        "    article_text_list = article_text(article_urls_list[0:50])\n",
        "else:\n",
        "    article_text_list = article_text(article_urls_list)"
      ],
      "execution_count": 60,
      "outputs": []
    },
    {
      "cell_type": "code",
      "metadata": {
        "id": "TaSCvFopnMm2"
      },
      "source": [
        "text_df = np.savetxt(\"article_text.txt\",article_text_list,fmt='%s')"
      ],
      "execution_count": 61,
      "outputs": []
    }
  ]
}
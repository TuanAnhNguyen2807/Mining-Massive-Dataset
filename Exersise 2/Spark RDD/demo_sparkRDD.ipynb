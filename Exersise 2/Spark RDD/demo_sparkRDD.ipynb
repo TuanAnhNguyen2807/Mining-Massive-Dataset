{
  "nbformat": 4,
  "nbformat_minor": 0,
  "metadata": {
    "colab": {
      "name": "demo_sparkRDD.ipynb",
      "provenance": [],
      "collapsed_sections": []
    },
    "kernelspec": {
      "name": "python3",
      "display_name": "Python 3"
    }
  },
  "cells": [
    {
      "cell_type": "code",
      "metadata": {
        "colab": {
          "base_uri": "https://localhost:8080/"
        },
        "id": "DBFe-DAdh_C0",
        "outputId": "60913e28-342d-4815-bd63-60a68bacfa8f"
      },
      "source": [
        "!pip install pyspark\n"
      ],
      "execution_count": null,
      "outputs": [
        {
          "output_type": "stream",
          "text": [
            "Collecting pyspark\n",
            "\u001b[?25l  Downloading https://files.pythonhosted.org/packages/f0/26/198fc8c0b98580f617cb03cb298c6056587b8f0447e20fa40c5b634ced77/pyspark-3.0.1.tar.gz (204.2MB)\n",
            "\u001b[K     |████████████████████████████████| 204.2MB 69kB/s \n",
            "\u001b[?25hCollecting py4j==0.10.9\n",
            "\u001b[?25l  Downloading https://files.pythonhosted.org/packages/9e/b6/6a4fb90cd235dc8e265a6a2067f2a2c99f0d91787f06aca4bcf7c23f3f80/py4j-0.10.9-py2.py3-none-any.whl (198kB)\n",
            "\u001b[K     |████████████████████████████████| 204kB 41.0MB/s \n",
            "\u001b[?25hBuilding wheels for collected packages: pyspark\n",
            "  Building wheel for pyspark (setup.py) ... \u001b[?25l\u001b[?25hdone\n",
            "  Created wheel for pyspark: filename=pyspark-3.0.1-py2.py3-none-any.whl size=204612242 sha256=209838eb954ca9f5560601069b79de3c7372b9af53c0597b1f26a129b1a04f89\n",
            "  Stored in directory: /root/.cache/pip/wheels/5e/bd/07/031766ca628adec8435bb40f0bd83bb676ce65ff4007f8e73f\n",
            "Successfully built pyspark\n",
            "Installing collected packages: py4j, pyspark\n",
            "Successfully installed py4j-0.10.9 pyspark-3.0.1\n"
          ],
          "name": "stdout"
        }
      ]
    },
    {
      "cell_type": "code",
      "metadata": {
        "colab": {
          "base_uri": "https://localhost:8080/"
        },
        "id": "atCV1eJiihaq",
        "outputId": "cb4a2f20-6172-4df4-d6a5-0e735de7a6fc"
      },
      "source": [
        "import pyspark\n",
        "from pyspark import SparkConf, SparkContext\n",
        "from pyspark.sql import SparkSession\n",
        "from google.colab import drive\n",
        "drive.mount('/content/drive')"
      ],
      "execution_count": null,
      "outputs": [
        {
          "output_type": "stream",
          "text": [
            "Drive already mounted at /content/drive; to attempt to forcibly remount, call drive.mount(\"/content/drive\", force_remount=True).\n"
          ],
          "name": "stdout"
        }
      ]
    },
    {
      "cell_type": "code",
      "metadata": {
        "id": "MH9MKvPvi9ay"
      },
      "source": [
        "conf = SparkConf().setMaster(\"local\").setAppName(\"count\")\n",
        "sc = SparkContext.getOrCreate(conf=conf)\n",
        "\n",
        "text_file = sc.textFile(\"drive/MyDrive/BigData/Week1/text_ex1.txt\")"
      ],
      "execution_count": null,
      "outputs": []
    },
    {
      "cell_type": "code",
      "metadata": {
        "colab": {
          "base_uri": "https://localhost:8080/"
        },
        "id": "FHNIpzSPm11Y",
        "outputId": "9c7fea7f-81b8-47f9-84de-2cdcf91e4d3b"
      },
      "source": [
        "print(text_file.first())"
      ],
      "execution_count": null,
      "outputs": [
        {
          "output_type": "stream",
          "text": [
            "I arrive in Guatemala on The Day of the Dead, November 1st. I’m curious about this holiday, so I go to the cemetery to see what’s happening. What I find is quite interesting. The atmosphereis like a party. There are people everywhere. Families are sitting around the graves of their dead ancestors. They clean the graves and add fresh flowers. I walk through the emetery and admire the beauty of all the colorful flowers. There is also color in the sky, because many kids are flying kites. Some families are having a picnic next to the graves. They eat, drink, and chat together. People laugh and smile. In the Unites States, cemeteries are always somber. We certainly never have festivals or parties next to graves. We don’t laugh or play music or fly kites in cemeteries either. I find that I prefer the Guatemalan approach. I like the way they remember and celebrate those who have passed away. I like that they acknowledge death, instead of denying it the way Americans do. I like that there is life, as well as death, in their cemeteries. Guatemalans call it “The Day of the Dead”, but it is also a day to appreciate life.\n"
          ],
          "name": "stdout"
        }
      ]
    },
    {
      "cell_type": "code",
      "metadata": {
        "id": "PTbkhG88nWHZ"
      },
      "source": [
        "array_text = text_file.first().split(\" \")\n",
        "array_text = [x.replace(\",\",\"\").replace(\".\",\"\").lower() for x in array_text if x.isalnum()]\n",
        "rdd = sc.parallelize(array_text)"
      ],
      "execution_count": null,
      "outputs": []
    },
    {
      "cell_type": "code",
      "metadata": {
        "colab": {
          "base_uri": "https://localhost:8080/"
        },
        "id": "IGWMiKu7naHY",
        "outputId": "fff65318-f58a-4f21-d95c-46db6bc9b4e2"
      },
      "source": [
        "key = rdd.map(lambda word: (word, 1))\n",
        "print(key.collect())"
      ],
      "execution_count": null,
      "outputs": [
        {
          "output_type": "stream",
          "text": [
            "[('i', 1), ('arrive', 1), ('in', 1), ('guatemala', 1), ('on', 1), ('the', 1), ('day', 1), ('of', 1), ('the', 1), ('november', 1), ('curious', 1), ('about', 1), ('this', 1), ('so', 1), ('i', 1), ('go', 1), ('to', 1), ('the', 1), ('cemetery', 1), ('to', 1), ('see', 1), ('what', 1), ('i', 1), ('find', 1), ('is', 1), ('quite', 1), ('the', 1), ('atmosphereis', 1), ('like', 1), ('a', 1), ('there', 1), ('are', 1), ('people', 1), ('families', 1), ('are', 1), ('sitting', 1), ('around', 1), ('the', 1), ('graves', 1), ('of', 1), ('their', 1), ('dead', 1), ('they', 1), ('clean', 1), ('the', 1), ('graves', 1), ('and', 1), ('add', 1), ('fresh', 1), ('i', 1), ('walk', 1), ('through', 1), ('the', 1), ('emetery', 1), ('and', 1), ('admire', 1), ('the', 1), ('beauty', 1), ('of', 1), ('all', 1), ('the', 1), ('colorful', 1), ('there', 1), ('is', 1), ('also', 1), ('color', 1), ('in', 1), ('the', 1), ('because', 1), ('many', 1), ('kids', 1), ('are', 1), ('flying', 1), ('some', 1), ('families', 1), ('are', 1), ('having', 1), ('a', 1), ('picnic', 1), ('next', 1), ('to', 1), ('the', 1), ('they', 1), ('and', 1), ('chat', 1), ('people', 1), ('laugh', 1), ('and', 1), ('in', 1), ('the', 1), ('unites', 1), ('cemeteries', 1), ('are', 1), ('always', 1), ('we', 1), ('certainly', 1), ('never', 1), ('have', 1), ('festivals', 1), ('or', 1), ('parties', 1), ('next', 1), ('to', 1), ('we', 1), ('laugh', 1), ('or', 1), ('play', 1), ('music', 1), ('or', 1), ('fly', 1), ('kites', 1), ('in', 1), ('cemeteries', 1), ('i', 1), ('find', 1), ('that', 1), ('i', 1), ('prefer', 1), ('the', 1), ('guatemalan', 1), ('i', 1), ('like', 1), ('the', 1), ('way', 1), ('they', 1), ('remember', 1), ('and', 1), ('celebrate', 1), ('those', 1), ('who', 1), ('have', 1), ('passed', 1), ('i', 1), ('like', 1), ('that', 1), ('they', 1), ('acknowledge', 1), ('instead', 1), ('of', 1), ('denying', 1), ('it', 1), ('the', 1), ('way', 1), ('americans', 1), ('i', 1), ('like', 1), ('that', 1), ('there', 1), ('is', 1), ('as', 1), ('well', 1), ('as', 1), ('in', 1), ('their', 1), ('guatemalans', 1), ('call', 1), ('it', 1), ('day', 1), ('of', 1), ('the', 1), ('but', 1), ('it', 1), ('is', 1), ('also', 1), ('a', 1), ('day', 1), ('to', 1), ('appreciate', 1)]\n"
          ],
          "name": "stdout"
        }
      ]
    }
  ]
}
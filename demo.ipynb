{
  "nbformat": 4,
  "nbformat_minor": 0,
  "metadata": {
    "colab": {
      "name": "demo.ipynb",
      "provenance": [],
      "collapsed_sections": [],
      "authorship_tag": "ABX9TyP/aoUop4ZcI0Lh2VdnpEgy",
      "include_colab_link": true
    },
    "kernelspec": {
      "name": "python3",
      "display_name": "Python 3"
    }
  },
  "cells": [
    {
      "cell_type": "markdown",
      "metadata": {
        "id": "view-in-github",
        "colab_type": "text"
      },
      "source": [
        "<a href=\"https://colab.research.google.com/github/TuanAnhNguyen2807/Mining-Massive-Dataset/blob/main/demo.ipynb\" target=\"_parent\"><img src=\"https://colab.research.google.com/assets/colab-badge.svg\" alt=\"Open In Colab\"/></a>"
      ]
    },
    {
      "cell_type": "code",
      "metadata": {
        "colab": {
          "base_uri": "https://localhost:8080/"
        },
        "id": "8nuLILIASs29",
        "outputId": "f52a2682-2b1d-4dce-d383-a3d825f66392"
      },
      "source": [
        "!pip install pyspark\r\n"
      ],
      "execution_count": null,
      "outputs": [
        {
          "output_type": "stream",
          "text": [
            "Collecting pyspark\n",
            "\u001b[?25l  Downloading https://files.pythonhosted.org/packages/27/67/5158f846202d7f012d1c9ca21c3549a58fd3c6707ae8ee823adcaca6473c/pyspark-3.0.2.tar.gz (204.8MB)\n",
            "\u001b[K     |████████████████████████████████| 204.8MB 69kB/s \n",
            "\u001b[?25hCollecting py4j==0.10.9\n",
            "\u001b[?25l  Downloading https://files.pythonhosted.org/packages/9e/b6/6a4fb90cd235dc8e265a6a2067f2a2c99f0d91787f06aca4bcf7c23f3f80/py4j-0.10.9-py2.py3-none-any.whl (198kB)\n",
            "\u001b[K     |████████████████████████████████| 204kB 39.5MB/s \n",
            "\u001b[?25hBuilding wheels for collected packages: pyspark\n",
            "  Building wheel for pyspark (setup.py) ... \u001b[?25l\u001b[?25hdone\n",
            "  Created wheel for pyspark: filename=pyspark-3.0.2-py2.py3-none-any.whl size=205186687 sha256=3703d2c761e3826237ae8e0229af050d547f4c77d86d103eae8cb90a9b4b9fb9\n",
            "  Stored in directory: /root/.cache/pip/wheels/8b/09/da/c1f2859bcc86375dc972c5b6af4881b3603269bcc4c9be5d16\n",
            "Successfully built pyspark\n",
            "Installing collected packages: py4j, pyspark\n",
            "Successfully installed py4j-0.10.9 pyspark-3.0.2\n"
          ],
          "name": "stdout"
        }
      ]
    },
    {
      "cell_type": "code",
      "metadata": {
        "colab": {
          "base_uri": "https://localhost:8080/"
        },
        "id": "c5e5_DsiT_pM",
        "outputId": "4db86f52-f35b-4455-c474-6dae24348e9a"
      },
      "source": [
        "import pyspark\r\n",
        "from pyspark import SparkConf, SparkContext\r\n",
        "from pyspark.sql import SparkSession\r\n",
        "from google.colab import drive\r\n",
        "drive.mount('/content/drive')\r\n",
        "import collections\r\n",
        "conf = SparkConf().setMaster(\"local\").setAppName(\"count\")\r\n",
        "sc = SparkContext.getOrCreate(conf=conf)"
      ],
      "execution_count": null,
      "outputs": [
        {
          "output_type": "stream",
          "text": [
            "Mounted at /content/drive\n"
          ],
          "name": "stdout"
        }
      ]
    },
    {
      "cell_type": "code",
      "metadata": {
        "colab": {
          "base_uri": "https://localhost:8080/"
        },
        "id": "VGg-mY80U7-C",
        "outputId": "584642e4-87f5-469d-adf7-e1a58d4371f9"
      },
      "source": [
        "spark = SparkSession.builder.master(\"local[1]\").appName(\"SparkExample\").getOrCreate()  \r\n",
        "data = [('Project', 1),\r\n",
        "('Gutenberg’s', 1),\r\n",
        "('Alice’s', 1),\r\n",
        "('Adventures', 1),\r\n",
        "('in', 1),\r\n",
        "('Wonderland', 1),\r\n",
        "('Project', 1),\r\n",
        "('Gutenberg’s', 1),\r\n",
        "('Adventures', 1),\r\n",
        "('in', 1),\r\n",
        "('Wonderland', 1),\r\n",
        "('Project', 1),\r\n",
        "('Gutenberg’s', 1)]\r\n",
        "rdd=spark.sparkContext.parallelize(data)\r\n",
        "test = rdd.reduceByKey(lambda x, y: x + y)\r\n",
        "print(test.count())\r\n",
        "print(test.collect())\r\n",
        "\r\n"
      ],
      "execution_count": 23,
      "outputs": [
        {
          "output_type": "stream",
          "text": [
            "6\n",
            "[('Project', 3), ('Gutenberg’s', 3), ('Alice’s', 1), ('Adventures', 2), ('in', 2), ('Wonderland', 2)]\n"
          ],
          "name": "stdout"
        }
      ]
    },
    {
      "cell_type": "markdown",
      "metadata": {
        "id": "Xf67RjpYYNvR"
      },
      "source": [
        ""
      ]
    },
    {
      "cell_type": "markdown",
      "metadata": {
        "id": "qJobPIBJYPBK"
      },
      "source": [
        "**Spark DataFrame**\r\n"
      ]
    },
    {
      "cell_type": "code",
      "metadata": {
        "colab": {
          "base_uri": "https://localhost:8080/"
        },
        "id": "OdN5v6kMZv9h",
        "outputId": "fb6875d9-1753-41b0-c319-871e54c19169"
      },
      "source": [
        "columns = [\"id\",\"firstname\",\"middlename\",\"lastname\",\"gender\",\"country\"]\r\n",
        "data = [('A1','Nguyen','Tuan','Anh','Nam','DL'),\r\n",
        "        ('A2','Pham','Van','A','Nam','DL'),\r\n",
        "        ('A3','Tran','Tuan','Anh','Nam','BT'),\r\n",
        "        ('A4','Nguyen','Ngoc Hong','Phuc','Nu','HCM'),\r\n",
        "        ('A5','Dang','Tuan','Anh','Nam','DL')\r\n",
        "]\r\n",
        "df = spark.createDataFrame(data=data, schema = columns)\r\n",
        "df.show()"
      ],
      "execution_count": null,
      "outputs": [
        {
          "output_type": "stream",
          "text": [
            "+---+---------+----------+--------+------+-------+\n",
            "| id|firstname|middlename|lastname|gender|country|\n",
            "+---+---------+----------+--------+------+-------+\n",
            "| A1|   Nguyen|      Tuan|     Anh|   Nam|     DL|\n",
            "| A2|     Pham|       Van|       A|   Nam|     DL|\n",
            "| A3|     Tran|      Tuan|     Anh|   Nam|     BT|\n",
            "| A4|   Nguyen| Ngoc Hong|    Phuc|    Nu|    HCM|\n",
            "| A5|     Dang|      Tuan|     Anh|   Nam|     DL|\n",
            "+---+---------+----------+--------+------+-------+\n",
            "\n"
          ],
          "name": "stdout"
        }
      ]
    },
    {
      "cell_type": "markdown",
      "metadata": {
        "id": "PWPs6EPCdqOK"
      },
      "source": [
        "**PySpark SQL**"
      ]
    },
    {
      "cell_type": "code",
      "metadata": {
        "colab": {
          "base_uri": "https://localhost:8080/"
        },
        "id": "ifFy_KyveQKY",
        "outputId": "2ff605a6-8853-45c6-db01-d469e11ab83f"
      },
      "source": [
        "df.createOrReplaceTempView(\"Student_Data\")\r\n",
        "df2 = spark.sql(\"SELECT * from Student_Data\")\r\n",
        "df2.printSchema()\r\n",
        "df2.show()"
      ],
      "execution_count": null,
      "outputs": [
        {
          "output_type": "stream",
          "text": [
            "root\n",
            " |-- id: string (nullable = true)\n",
            " |-- firstname: string (nullable = true)\n",
            " |-- middlename: string (nullable = true)\n",
            " |-- lastname: string (nullable = true)\n",
            " |-- gender: string (nullable = true)\n",
            " |-- country: string (nullable = true)\n",
            "\n",
            "+---+---------+----------+--------+------+-------+\n",
            "| id|firstname|middlename|lastname|gender|country|\n",
            "+---+---------+----------+--------+------+-------+\n",
            "| A1|   Nguyen|      Tuan|     Anh|   Nam|     DL|\n",
            "| A2|     Pham|       Van|       A|   Nam|     DL|\n",
            "| A3|     Tran|      Tuan|     Anh|   Nam|     BT|\n",
            "| A4|   Nguyen| Ngoc Hong|    Phuc|    Nu|    HCM|\n",
            "| A5|     Dang|      Tuan|     Anh|   Nam|     DL|\n",
            "+---+---------+----------+--------+------+-------+\n",
            "\n"
          ],
          "name": "stdout"
        }
      ]
    },
    {
      "cell_type": "code",
      "metadata": {
        "colab": {
          "base_uri": "https://localhost:8080/"
        },
        "id": "oV8Y4WLseiFg",
        "outputId": "2a13024c-967b-4549-e907-0b75e127eaab"
      },
      "source": [
        "temp = spark.sql(\"SELECT lastname, country from Student_Data\")\r\n",
        "temp.show()"
      ],
      "execution_count": null,
      "outputs": [
        {
          "output_type": "stream",
          "text": [
            "+--------+-------+\n",
            "|lastname|country|\n",
            "+--------+-------+\n",
            "|     Anh|     DL|\n",
            "|       A|     DL|\n",
            "|     Anh|     BT|\n",
            "|    Phuc|    HCM|\n",
            "|     Anh|     DL|\n",
            "+--------+-------+\n",
            "\n"
          ],
          "name": "stdout"
        }
      ]
    }
  ]
}